{
 "cells": [
  {
   "cell_type": "markdown",
   "metadata": {},
   "source": [
    "# Pointers\n",
    "- pointers are the core features of C and C++ program\n",
    "- pointers allow programmers to directly manipulate memory\n",
    "- copying a large chunks of memory to be used by different functions or in different places can be very expensive (in term of CPU time and memory requirements)\n",
    "- pointers allow us to simply pass around the address of the beginning of the block of memory (usually 32 bits or 4 bytes in $x86$ architecture)\n",
    "- pointer variable stores address of some memory location (which could be address of pointer, code, or data)\n",
    "- must declare pointers before you can use them"
   ]
  },
  {
   "cell_type": "markdown",
   "metadata": {},
   "source": [
    "## Operators\n",
    "### Address-of operator (&)\n",
    "- the address of a variable can be obtained by *address-of-operator (&)* in front of a variable name\n",
    "\n",
    "### Dereference operator (\\*)\n",
    "- used to declare pointer\n",
    "- can be used to read the \"value pointed to by\" some memory address"
   ]
  },
  {
   "cell_type": "markdown",
   "metadata": {},
   "source": [
    "## Declaring pointers\n",
    "- pointers can be declared using \\* de-reference/pointer operator\n",
    "- syntax:\n",
    "```c\n",
    "    type * pointerVarName;\n",
    "```"
   ]
  },
  {
   "cell_type": "code",
   "execution_count": null,
   "metadata": {},
   "outputs": [],
   "source": [
    "#include <stdio.h>\n",
    "\n",
    "int main() {\n",
    "    int num = 100;\n",
    "    int * numPtr = &num; // copy the address of num to numPtr\n",
    "    printf(\"value of numPtr = %p\\n\", numPtr);\n",
    "    printf(\"address of numPtr = %p\\n\", &numPtr);\n",
    "    printf(\"value pointed to by numPtr = %d\\n\", *numPtr);\n",
    "    *numPtr *= 2;\n",
    "    printf(\"value pointed to by numPtr = %d\\n\", *numPtr);\n",
    "    return 0;\n",
    "}"
   ]
  },
  {
   "cell_type": "markdown",
   "metadata": {},
   "source": [
    "### visualize with python tutor\n",
    "https://goo.gl/GyVJwX"
   ]
  },
  {
   "cell_type": "code",
   "execution_count": null,
   "metadata": {},
   "outputs": [],
   "source": [
    "#include <stdio.h>\n",
    "#include <string.h>\n",
    "\n",
    "int main() {\n",
    "    char str_a[10];  // a 10 element character array\n",
    "    char *pointer;   // a pointer, meant for a character array\n",
    "\n",
    "    strcpy(str_a, \"Hello!\\n\");\n",
    "    pointer = str_a; // set the first pointer to the start of the array\n",
    "    printf(\"%s\", pointer);\n",
    "}"
   ]
  },
  {
   "cell_type": "markdown",
   "metadata": {},
   "source": [
    "## Pointers and arrays\n",
    "- concept of arrays is related to that of pointers\n",
    "- arrays work very much like pointers where index is used to deference the address of each cell"
   ]
  },
  {
   "cell_type": "code",
   "execution_count": null,
   "metadata": {},
   "outputs": [],
   "source": [
    "#include <stdio.h>\n",
    "\n",
    "void printArray(int *arr, int size) {\n",
    "    for(int i=0; i<size; i++) {\n",
    "        printf(\"%d \", arr[i]);\n",
    "    }\n",
    "    puts(\"\\n\");\n",
    "}\n",
    "\n",
    "int main() {\n",
    "    int intarray[5];\n",
    "    int * ptr;\n",
    "    ptr = intarray; // copy base address of intarray to ptr\n",
    "    for(int i=0; i<5; i++,ptr++) {\n",
    "        *ptr = i*10; // same as intarray[i] = i*10;\n",
    "        printf(\"%p == %p\\n\", ptr, intarray+i); \n",
    "        printf(\"%d == %d\\n\", *ptr, intarray[i]);\n",
    "    }\n",
    "    printf(\"%s\\n\", \"Printing Array\");\n",
    "    printArray(intarray, 5);\n",
    "    return 0;\n",
    "}"
   ]
  },
  {
   "cell_type": "markdown",
   "metadata": {},
   "source": [
    "## Invalid pointers and null pointers\n",
    "- pointers are meant to point to valid addresses, in principle\n",
    "- pointers can also point to any address, including addresses that do not refer to any valid element\n",
    "    - e.g., uninitialized pointers and pointers to non-existent elements of an array\n",
    "- neither p nor q point to addresses known to contain a value in the following cell\n",
    "- they do not cause error while declaring!\n",
    "- but, can cause error/problem if dereferenced such pointers\n",
    "    - may crash program or point to a random data in memory"
   ]
  },
  {
   "cell_type": "code",
   "execution_count": null,
   "metadata": {},
   "outputs": [],
   "source": [
    "#include <stdio.h>\n",
    "\n",
    "int main() {\n",
    "    // invalid pointers\n",
    "    int * p;\n",
    "    printf(\"*p = %d\\n\", *p);\n",
    "    int myarray[10];\n",
    "    int * q = myarray+20; //address out of bounds\n",
    "    printf(\"*q = %d\\n\", *q);\n",
    "    return 0;\n",
    "}"
   ]
  },
  {
   "cell_type": "markdown",
   "metadata": {},
   "source": [
    "## void pointers and pointer types"
   ]
  },
  {
   "cell_type": "code",
   "execution_count": null,
   "metadata": {},
   "outputs": [],
   "source": [
    "#include <stdio.h>\n",
    "\n",
    "int main() {\n",
    "    char charArray[5] = {'a', 'b', 'c', '1', '2'};\n",
    "    void * voidPtr = (void *)charArray;\n",
    "    for(int i=0; i<5; i++) {\n",
    "        printf(\"[char pointer] points to %p with value '%c'\\n\", voidPtr, *((char *) voidPtr));\n",
    "        voidPtr = (void *)((char *) voidPtr + 1);\n",
    "    }\n",
    "    return 0;\n",
    "}"
   ]
  },
  {
   "cell_type": "markdown",
   "metadata": {},
   "source": [
    "## Passing Arguments to main - Command-Line Arguments\n",
    "- like bash programs, C programs can take command-line arguments (not requiring user interaction)\n",
    "- main function can take two arguments (an integer and a pointer to an array of string\n",
    "### see commandline.c and convert.c, unittest.c in demo-programs folder"
   ]
  },
  {
   "cell_type": "markdown",
   "metadata": {},
   "source": [
    "## Negative index and array bounds\n",
    "- TinyCore CTF - hint for level3\n",
    "- compile and run negativeIndex.c in demo-programs with compile.sh script if it doesn't work in the notebook"
   ]
  },
  {
   "cell_type": "code",
   "execution_count": 24,
   "metadata": {},
   "outputs": [
    {
     "name": "stdout",
     "output_type": "stream",
     "text": [
      "value at index -5 = -1208669625\n"
     ]
    }
   ],
   "source": [
    "// run the program with various indices (-3...5)\n",
    "#include <stdio.h>\n",
    "#include <stdlib.h>\n",
    "\n",
    "int main(int argc, char* argv[]) {\n",
    "    int nums2[] = {100, 200, 300};\n",
    "    int nums[] = {1, 2, 3};\n",
    "    int nums1[] = {10, 20, 30};\n",
    "    int index = ; //atoi(argv[1]);\n",
    "    printf(\"value at index %d = %d\\n\", index, nums[index]);\n",
    "    return 0;\n",
    "}"
   ]
  },
  {
   "cell_type": "markdown",
   "metadata": {},
   "source": [
    "## Pointers to functions\n",
    "- TinyCore CTF - hint for level3\n",
    "- pointers can store addresses of functions as well; called function pointers\n",
    "- used for passing a function as an argument to another higher order function\n",
    "- declaring function pointer is very similar to declaring variable pointers\n",
    "- parenthesis around function pointer name is required!\n",
    "```c++\n",
    "    type (* functionPtrName) ( parameter type1, type2, ... );\n",
    "```"
   ]
  },
  {
   "cell_type": "code",
   "execution_count": null,
   "metadata": {},
   "outputs": [],
   "source": [
    "#include <stdio.h>\n",
    "\n",
    "typedef int (* fun_ptr)(int, int); //fun_ptr is type alias\n",
    "\n",
    "int addition (int a, int b) { \n",
    "    return (a + b); \n",
    "}\n",
    "\n",
    "int subtraction (int a, int b) {\n",
    "    return (a - b); \n",
    "}\n",
    "\n",
    "int multiplication(int a, int b) {\n",
    "    return a*b;\n",
    "}\n",
    "\n",
    "int operation (int x, int y, int (*func)(int, int)) {\n",
    "  int g;\n",
    "  g = (*func)(x, y); // dereferece func\n",
    "  return g;\n",
    "}\n",
    "\n",
    "int main() {\n",
    "    int m, n;\n",
    "    // function pointer\n",
    "    int (* sub)(int, int);\n",
    "    sub = subtraction;\n",
    "    printf(\"10 - 5 = %d\\n\", sub(10, 5));\n",
    "    fun_ptr prod = multiplication; //prod is an alias to multiplication\n",
    "    printf(\"10 * 5 = %d\\n\", prod(10, 5));\n",
    "    m = operation(10, 20, addition);\n",
    "    n = operation(100, m, sub);\n",
    "    printf(\"m = %d\\n\", m);\n",
    "    printf(\"n = %d\\n\", n);\n",
    "    \n",
    "    //  array of function pointers\n",
    "    puts(\"****array of funciton pointers*****\");\n",
    "    fun_ptr fns[] = {addition, subtraction};\n",
    "    int x = 20, y = 10;\n",
    "    for (int i=0; i<2; i++) {\n",
    "        printf(\"address of function %d = %p\\n\", i, fns[i]);\n",
    "        printf(\"function %d result = %d\\n\", i, (*(fns+i))(x, y));\n",
    "        printf(\"function %d result = %d\\n\", i, fns[i](x, y));\n",
    "    }\n",
    "    puts(\"****funciton addresses*****\");\n",
    "    printf(\"address of addition = %p\\n\", addition);\n",
    "    printf(\"address of subtraction = %p\\n\", &subtraction);\n",
    "    printf(\"address of multiplication = %p\\n\", &multiplication);\n",
    "    return 0;\n",
    "}"
   ]
  },
  {
   "cell_type": "markdown",
   "metadata": {},
   "source": [
    "<a id=\"dynamic\"></a>"
   ]
  },
  {
   "cell_type": "markdown",
   "metadata": {},
   "source": [
    "## Dynamic memory - using Heap\n",
    "- memory needs from auto/local variables are determined during compile time before program executes\n",
    "- at times memory needs of a program can only be determined during runtime\n",
    "    - e.g., when memory needed depends on user input\n",
    "- on these cases, program needs to dynamically allocate memory\n",
    "- `malloc()` is used to allocate memory dynamically in Heap\n",
    "    - `malloc()` takes size in bytes as argument and returns the address to the start address of allocated memory\n",
    "    - returns NULL pointer with a value of 0 if function can't allocate memory\n",
    "- dynamic memory must be deallocated to prevent memory leak in the program\n",
    "    - `free()` function which accepts a pointer frees that memory space so it can be used again later\n",
    "- must use `<stdlib.h>` file to use `malloc()` and `free()`\n",
    "\n",
    "### visualize in pythontutor.com: https://goo.gl/TSrqcP"
   ]
  },
  {
   "cell_type": "code",
   "execution_count": null,
   "metadata": {},
   "outputs": [],
   "source": [
    "#include <stdio.h>\n",
    "#include <stdlib.h>\n",
    "\n",
    "int main() {\n",
    "    // allocate dynamic memory\n",
    "    // number of ints\n",
    "    int N = 1;\n",
    "    int * num1Ptr = (int *)malloc(sizeof(int)*N);\n",
    "    int * num2Ptr = (int *)malloc(sizeof(int)*N);\n",
    "    if (num1Ptr == NULL || num2Ptr == NULL) {\n",
    "        printf(\"Memory couldn't be allocated!\\n\");\n",
    "        return -1;\n",
    "        // exit(-1);\n",
    "    }\n",
    "    // use dynamic memory\n",
    "    *num1Ptr = 100;\n",
    "    *num2Ptr = 50;\n",
    "    printf(\"%d + %d = %d\\n\", *num1Ptr, *num2Ptr, *num1Ptr + *num2Ptr);\n",
    "    printf(\"%d - %d = %d\\n\", *num1Ptr, *num2Ptr, *num1Ptr - *num2Ptr);\n",
    "    printf(\"%d * %d = %d\\n\", *num1Ptr, *num2Ptr, *num1Ptr * *num2Ptr);\n",
    "    free(num1Ptr);\n",
    "    free(num2Ptr);\n",
    "    return 0;\n",
    "}"
   ]
  },
  {
   "cell_type": "markdown",
   "metadata": {},
   "source": [
    "## Dynamic arrays\n",
    "### visualize with pythontutor.com: https://goo.gl/dVFYFz"
   ]
  },
  {
   "cell_type": "code",
   "execution_count": null,
   "metadata": {},
   "outputs": [],
   "source": [
    "// array example\n",
    "#include <stdio.h>\n",
    "#include <stdlib.h>\n",
    "#include <string.h>\n",
    "\n",
    "void printArray(const float * arr, int size) {\n",
    "    for(int i=0; i<size; i++)\n",
    "        printf(\"%.2f \", *(arr+i));\n",
    "}\n",
    "\n",
    "int main() {\n",
    "    unsigned int size = 5; // this value can be determined during program execution from user input e.g.\n",
    "    float * tests = (float *) malloc(sizeof(float)*size);\n",
    "    // dynamic array is no different from static array\n",
    "    tests[0] = 100;\n",
    "    tests[1] = 95;\n",
    "    tests[2] = 0;\n",
    "    tests[3] = 89;\n",
    "    tests[4] = 79;\n",
    "    printArray(tests, size);\n",
    "    free(tests);\n",
    "    puts(\"\"); //add a new line\n",
    "    char * namePtr = (char *)malloc(20);\n",
    "    strncpy(namePtr, \"John Smith\", 11);\n",
    "    printf(\"Hello, %s!\", namePtr);\n",
    "    return 0;\n",
    "}"
   ]
  },
  {
   "cell_type": "markdown",
   "metadata": {},
   "source": [
    "## Passing pointers to functions\n",
    "- pointers can be passed to functions\n",
    "- similar to passed-by-reference \n",
    "    - if value pointed to by formal pointer parameter is changed, the value pointed to by actual pointer parameter will also be changed!\n",
    "- pass pointers as constants (read-only) to prevent side effect\n",
    "- arrays can be passed as pointers"
   ]
  },
  {
   "cell_type": "code",
   "execution_count": null,
   "metadata": {},
   "outputs": [],
   "source": [
    "#include <stdio.h>\n",
    "#include <stdlib.h>\n",
    "\n",
    "// function that takes two int pointers\n",
    "int addInts(const int * p1, const int * p2) {\n",
    "    return *p1 + *p2;\n",
    "}\n",
    "\n",
    "int main() {\n",
    "    // example 1: pass address of regular variables\n",
    "    int n1, n2 = 0;\n",
    "    n1 = 10; n2 = 15;\n",
    "    printf(\"%d + %d = %d\\n\", n1, n2, addInts(&n1, &n2));\n",
    "    \n",
    "    // exmaple 2: pass pointers\n",
    "    int * ptr1 = (int *)malloc(sizeof(int));\n",
    "    int * ptr2 = (int *)malloc(sizeof(int));\n",
    "    *ptr1 = 100;\n",
    "    *ptr2 = 200;\n",
    "    printf(\"%d + %d = %d\\n\", *ptr1, *ptr2, addInts(ptr1, ptr2));\n",
    "    return 0;\n",
    "}"
   ]
  },
  {
   "cell_type": "code",
   "execution_count": null,
   "metadata": {},
   "outputs": [],
   "source": [
    "#include <stdio.h>\n",
    "#include <stdlib.h>\n",
    "\n",
    "// similar to int sumArray(int a[], int len)\n",
    "int sumArray(const int * a, int len) { \n",
    "    int s = 0;\n",
    "    for(int i=0; i<len; i++) {\n",
    "        s += a[i]; // s += *a; a++;\n",
    "    }\n",
    "    return s;\n",
    "}\n",
    "\n",
    "int main() {\n",
    "    // passing array to function as pointer\n",
    "    int arr[4] = {100, 200, 300, 400};\n",
    "    printf(\"sum of arr = %d\\n\", sumArray(arr, 4));\n",
    "}"
   ]
  },
  {
   "cell_type": "markdown",
   "metadata": {},
   "source": [
    "<a id=\"exercises\"></a>"
   ]
  },
  {
   "cell_type": "markdown",
   "metadata": {},
   "source": [
    "## Returning array from function\n",
    "- since we can return a pointer from a function, we can return base address of array!\n",
    "- caveat is that the local variable that is being returned can't be automatic variable!"
   ]
  },
  {
   "cell_type": "code",
   "execution_count": null,
   "metadata": {},
   "outputs": [],
   "source": [
    "#include <stdio.h>\n",
    "#include <stdlib.h>\n",
    "#include <time.h>\n",
    "\n",
    "int * getRandomNumbers() {\n",
    "    static int rands[5]; // where is rands stored?\n",
    "    // set the seed\n",
    "    srand(time(NULL));\n",
    "    for (int i=0; i< 5; i++) {\n",
    "        rands[i] = rand() % 100; // number between 0 and 99\n",
    "    }\n",
    "    return rands;\n",
    "}\n",
    "\n",
    "int main() {\n",
    "    int *rng;\n",
    "    rng = getRandomNumbers();\n",
    "    for(int i=0; i< 5; i++)\n",
    "        printf(\"%d \", *(rng++)); //post-increment\n",
    "\n",
    "    return 0;\n",
    "}"
   ]
  },
  {
   "cell_type": "code",
   "execution_count": null,
   "metadata": {},
   "outputs": [],
   "source": []
  }
 ],
 "metadata": {
  "kernelspec": {
   "display_name": "C",
   "language": "c",
   "name": "c"
  },
  "language_info": {
   "file_extension": ".c",
   "mimetype": "text/plain",
   "name": "c"
  }
 },
 "nbformat": 4,
 "nbformat_minor": 2
}
