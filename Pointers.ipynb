{
 "cells": [
  {
   "cell_type": "markdown",
   "metadata": {},
   "source": [
    "# Pointers\n",
    "- pointers are the core features of C and C++ program\n",
    "- pointers allow programmers to directly manipulate memory\n",
    "- copying a large chunks of memory to be used by different functions or in different places can be very expensive (in term of CPU time and memory requirements)\n",
    "- pointers allow us to simply pass around the address of the beginning of the block of memory (usually 32 bits or 4 bytes in $x86$ architecture)\n",
    "- pointer variable stores address of some memory location (which could be address of pointer, code, or data)\n",
    "- must declare pointers before you can use them"
   ]
  },
  {
   "cell_type": "markdown",
   "metadata": {},
   "source": [
    "## Operators\n",
    "### Address-of operator (&)\n",
    "- the address of a variable can be obtained by *address-of-operator (&)* in front of a variable name\n",
    "\n",
    "### Dereference operator (\\*)\n",
    "- used to declare pointer\n",
    "- can be used to read the \"value pointed to by\" some memory address"
   ]
  },
  {
   "cell_type": "markdown",
   "metadata": {},
   "source": [
    "## Declaring pointers\n",
    "- pointers can be declared using \\* de-reference/pointer operator\n",
    "- syntax:\n",
    "```c\n",
    "    type * pointerVarName;\n",
    "```"
   ]
  },
  {
   "cell_type": "code",
   "execution_count": 7,
   "metadata": {},
   "outputs": [
    {
     "name": "stdout",
     "output_type": "stream",
     "text": [
      "value of numPtr = 0x7fff5503e8a8\n",
      "address of numPtr = 0x7fff5503e8a0\n",
      "value pointed to by numPtr = 100\n",
      "value pointed to by numPtr = 200\n"
     ]
    }
   ],
   "source": [
    "#include <stdio.h>\n",
    "\n",
    "int main() {\n",
    "    int num = 100;\n",
    "    int * numPtr = &num; // copy the address of num to numPtr\n",
    "    printf(\"value of numPtr = %p\\n\", numPtr);\n",
    "    printf(\"address of numPtr = %p\\n\", &numPtr);\n",
    "    printf(\"value pointed to by numPtr = %d\\n\", *numPtr);\n",
    "    *numPtr *= 2;\n",
    "    printf(\"value pointed to by numPtr = %d\\n\", *numPtr);\n",
    "    return 0;\n",
    "}"
   ]
  },
  {
   "cell_type": "markdown",
   "metadata": {},
   "source": [
    "### visualize with python tutor\n",
    "https://goo.gl/GyVJwX"
   ]
  },
  {
   "cell_type": "code",
   "execution_count": 5,
   "metadata": {},
   "outputs": [
    {
     "name": "stdout",
     "output_type": "stream",
     "text": [
      "Hello!\n"
     ]
    }
   ],
   "source": [
    "#include <stdio.h>\n",
    "#include <string.h>\n",
    "\n",
    "int main() {\n",
    "    char str_a[10];  // a 10 element character array\n",
    "    char *pointer;   // a pointer, meant for a character array\n",
    "\n",
    "    strcpy(str_a, \"Hello!\\n\");\n",
    "    pointer = str_a; // set the first pointer to the start of the array\n",
    "    printf(\"%s\", pointer);\n",
    "}"
   ]
  },
  {
   "cell_type": "markdown",
   "metadata": {},
   "source": [
    "## Pointers and arrays\n",
    "- concept of arrays is related to that of pointers\n",
    "- arrays work very much like pointers where index is used to deference the address of each cell"
   ]
  },
  {
   "cell_type": "code",
   "execution_count": 23,
   "metadata": {},
   "outputs": [
    {
     "name": "stdout",
     "output_type": "stream",
     "text": [
      "0x7fff5498a890 == 0x7fff5498a890\n",
      "0 == 0\n",
      "0x7fff5498a894 == 0x7fff5498a894\n",
      "10 == 10\n",
      "0x7fff5498a898 == 0x7fff5498a898\n",
      "20 == 20\n",
      "0x7fff5498a89c == 0x7fff5498a89c\n",
      "30 == 30\n",
      "0x7fff5498a8a0 == 0x7fff5498a8a0\n",
      "40 == 40\n",
      "Printing Array\n",
      "0 10 20 30 40 \n",
      "\n"
     ]
    }
   ],
   "source": [
    "#include <stdio.h>\n",
    "\n",
    "void printArray(int *arr, int size) {\n",
    "    for(int i=0; i<size; i++) {\n",
    "        printf(\"%d \", arr[i]);\n",
    "    }\n",
    "    puts(\"\\n\");\n",
    "}\n",
    "\n",
    "int main() {\n",
    "    int intarray[5];\n",
    "    int * ptr;\n",
    "    ptr = intarray; // copy base address of intarray to ptr\n",
    "    for(int i=0; i<5; i++,ptr++) {\n",
    "        *ptr = i*10; // same as intarray[i] = i*10;\n",
    "        printf(\"%p == %p\\n\", ptr, intarray+i); \n",
    "        printf(\"%d == %d\\n\", *ptr, intarray[i]);\n",
    "    }\n",
    "    printf(\"%s\\n\", \"Printing Array\");\n",
    "    printArray(intarray, 5);\n",
    "    return 0;\n",
    "}"
   ]
  },
  {
   "cell_type": "code",
   "execution_count": 6,
   "metadata": {},
   "outputs": [
    {
     "name": "stdout",
     "output_type": "stream",
     "text": [
      "[0, 0, 0, 0, 0]"
     ]
    }
   ],
   "source": [
    "printArray(intarray, 5);"
   ]
  },
  {
   "cell_type": "markdown",
   "metadata": {},
   "source": [
    "## Invalid pointers and null pointers\n",
    "- pointers are meant to point to valid addresses, in principle\n",
    "- pointers can also point to any any address, including addresses that do not refer to any valid element\n",
    "    - e.g., uninitialized pointers and pointers to non-existent elements of an array\n",
    "- neither p nor q point to addresses known to contain a value in the following cell\n",
    "- they do not cause error while declaring...\n",
    "- but can cause error/problem if dereferenced such pointers\n",
    "    - may crash program or point to a random data in memory"
   ]
  },
  {
   "cell_type": "code",
   "execution_count": 28,
   "metadata": {},
   "outputs": [
    {
     "name": "stderr",
     "output_type": "stream",
     "text": [
      "[C kernel] Executable exited with code -11"
     ]
    }
   ],
   "source": [
    "#include <stdio.h>\n",
    "\n",
    "int main() {\n",
    "    // invalid pointers\n",
    "    int * p;\n",
    "    printf(\"*p = %d\\n\", *p);\n",
    "    int myarray[10];\n",
    "    int * q = myarray+20; //element out of bounds\n",
    "    printf(\"*q = %d\\n\", *q);\n",
    "    return 0;\n",
    "}"
   ]
  },
  {
   "cell_type": "markdown",
   "metadata": {},
   "source": [
    "## void pointers and pointer types"
   ]
  },
  {
   "cell_type": "code",
   "execution_count": 34,
   "metadata": {},
   "outputs": [
    {
     "name": "stdout",
     "output_type": "stream",
     "text": [
      "[char pointer] points to 0x7fff52a398a7 with value 'a'\n",
      "[char pointer] points to 0x7fff52a398a8 with value 'b'\n",
      "[char pointer] points to 0x7fff52a398a9 with value 'c'\n",
      "[char pointer] points to 0x7fff52a398aa with value '1'\n",
      "[char pointer] points to 0x7fff52a398ab with value '2'\n"
     ]
    }
   ],
   "source": [
    "#include <stdio.h>\n",
    "\n",
    "int main() {\n",
    "    char charArray[5] = {'a', 'b', 'c', '1', '2'};\n",
    "    void * voidPtr = (void *)charArray;\n",
    "    for(int i=0; i<5; i++) {\n",
    "        printf(\"[char pointer] points to %p with value '%c'\\n\", voidPtr, *((char *) voidPtr));\n",
    "        voidPtr = (void *)((char *) voidPtr + 1);\n",
    "    }\n",
    "    return 0;\n",
    "}"
   ]
  },
  {
   "cell_type": "markdown",
   "metadata": {},
   "source": [
    "## Passing Arguments to main - Command-Line Arguments\n",
    "- like bash programs, C programs can take command-line arguments (not requiring user interaction)\n",
    "- main function can take two arguments (an integer and a pointer to an array of string\n",
    "### see commandline.c and convert.c, unittest.c in demo-programs folder"
   ]
  },
  {
   "cell_type": "markdown",
   "metadata": {},
   "source": [
    "## Pointers to functions\n",
    "- pointers can store addresses of functions as well; called function pointers\n",
    "- used for passing a function as an argument to another higher order function\n",
    "- declaring function pointer is very similar to declaring variable pointers\n",
    "- parenthesis around function pointer name is required!\n",
    "```c++\n",
    "    type (* functionPtrName) ( parameter type1, type2, ... );\n",
    "```"
   ]
  },
  {
   "cell_type": "code",
   "execution_count": 37,
   "metadata": {},
   "outputs": [
    {
     "name": "stdout",
     "output_type": "stream",
     "text": [
      "10 - 5 = 5\n",
      "m = 30\n",
      "n = 70\n"
     ]
    }
   ],
   "source": [
    "#include <stdio.h>\n",
    "\n",
    "int addition (int a, int b) { \n",
    "    return (a + b); \n",
    "}\n",
    "\n",
    "int subtraction (int a, int b) {\n",
    "    return (a - b); \n",
    "}\n",
    "\n",
    "int operation (int x, int y, int (*func)(int, int)) {\n",
    "  int g;\n",
    "  g = (*func)(x, y); // dereferece func\n",
    "  return g;\n",
    "}\n",
    "\n",
    "int main() {\n",
    "    int m, n;\n",
    "    // function pointer\n",
    "    int (* sub)(int, int);\n",
    "    sub = subtraction;\n",
    "    printf(\"10 - 5 = %d\\n\", sub(10, 5));\n",
    "    m = operation(10, 20, addition);\n",
    "    n = operation(100, m, sub);\n",
    "    printf(\"m = %d\\n\", m);\n",
    "    printf(\"n = %d\\n\", n);\n",
    "    return 0;\n",
    "}"
   ]
  },
  {
   "cell_type": "markdown",
   "metadata": {},
   "source": [
    "<a id=\"dynamic\"></a>"
   ]
  },
  {
   "cell_type": "markdown",
   "metadata": {},
   "source": [
    "## Dynamic memory - using Heap\n",
    "- memory needs from auto/local variables are determined during compile time before program executes\n",
    "- at times memory needs of a program can only be determined during runtime\n",
    "    - e.g., when memory needed depends on user input\n",
    "- on these cases, program needs to dynamically allocate memory\n",
    "- `malloc()` is used to allocate memory dynamically in Heap\n",
    "    - `malloc()` takes size in bytes as argument and returns the address to the start address of allocated memory\n",
    "    - returns NULL pointer with a value of 0 if function can't allocate memory\n",
    "- dynamic memory must be deallocated to prevent memory leak in the program\n",
    "    - `free()` function which accepts a pointer frees that memory space so it can be used again later\n",
    "- must use `<stdlib.h>` file to use `malloc()` and `free()`\n",
    "\n",
    "### visualize in pythontutor.com: https://goo.gl/TSrqcP"
   ]
  },
  {
   "cell_type": "code",
   "execution_count": 46,
   "metadata": {},
   "outputs": [
    {
     "name": "stdout",
     "output_type": "stream",
     "text": [
      "100 + 50 = 150\n",
      "100 - 50 = 50\n",
      "100 * 50 = 5000\n"
     ]
    }
   ],
   "source": [
    "#include <stdio.h>\n",
    "#include <stdlib.h>\n",
    "\n",
    "int main() {\n",
    "    // allocate dynamic memory\n",
    "    // number of ints\n",
    "    int N = 1;\n",
    "    int * num1Ptr = (int *)malloc(sizeof(int)*N);\n",
    "    int * num2Ptr = (int *)malloc(sizeof(int)*N);\n",
    "    if (num1Ptr == NULL || num2Ptr == NULL) {\n",
    "        printf(\"Memory couldn't be allocated!\\n\");\n",
    "        return -1;\n",
    "        // exit(-1);\n",
    "    }\n",
    "    // use dynamic memory\n",
    "    *num1Ptr = 100;\n",
    "    *num2Ptr = 50;\n",
    "    printf(\"%d + %d = %d\\n\", *num1Ptr, *num2Ptr, *num1Ptr + *num2Ptr);\n",
    "    printf(\"%d - %d = %d\\n\", *num1Ptr, *num2Ptr, *num1Ptr - *num2Ptr);\n",
    "    printf(\"%d * %d = %d\\n\", *num1Ptr, *num2Ptr, *num1Ptr * *num2Ptr);\n",
    "    free(num1Ptr);\n",
    "    free(num2Ptr);\n",
    "    return 0;\n",
    "}"
   ]
  },
  {
   "cell_type": "code",
   "execution_count": 51,
   "metadata": {},
   "outputs": [
    {
     "name": "stdout",
     "output_type": "stream",
     "text": [
      "100.00 95.00 0.00 89.00 79.00 "
     ]
    }
   ],
   "source": [
    "// array example\n",
    "#include <stdio.h>\n",
    "#include <stdlib.h>\n",
    "#include <string.h>\n",
    "\n",
    "void printArray(float * arr, int size) {\n",
    "    for(int i=0; i<size; i++)\n",
    "        printf(\"%.2f \", *(arr+i));\n",
    "}\n",
    "\n",
    "int main() {\n",
    "    unsigned int size = 5; // this value can be determined during program execution from user input e.g.\n",
    "    float * tests = (float *) malloc(sizeof(float)*size);\n",
    "    // dynamic array is no different from static array\n",
    "    tests[0] = 100;\n",
    "    tests[1] = 95;\n",
    "    tests[2] = 0;\n",
    "    tests[3] = 89;\n",
    "    tests[4] = 79;\n",
    "    printArray(tests, size);\n",
    "    free(tests);\n",
    "    \n",
    "    char * namePtr = (char *)malloc(20);\n",
    "    strncpy(namePtr, \"John Smith\")\n",
    "    return 0;\n",
    "}"
   ]
  },
  {
   "cell_type": "markdown",
   "metadata": {},
   "source": [
    "## Passing pointers to functions\n",
    "- pointers can be passed to functions\n",
    "- similar to passed-by-reference \n",
    "    - if value pointed to by formal pointer parameter is changed, the value pointed to by actual pointer parameter will also be changed!\n",
    "- pass pointers as constants (read-only) to prevent side effect\n",
    "- arrays can be passed as pointers"
   ]
  },
  {
   "cell_type": "code",
   "execution_count": 33,
   "metadata": {},
   "outputs": [],
   "source": [
    "\n",
    "// function that takes two int pointers\n",
    "int addInts(const int * p1, const int * p2) {\n",
    "    return *p1 + *p2;\n",
    "}"
   ]
  },
  {
   "cell_type": "code",
   "execution_count": 34,
   "metadata": {},
   "outputs": [],
   "source": [
    "// example 1: pass address of regular variables\n",
    "int n1, n2 = 0;"
   ]
  },
  {
   "cell_type": "code",
   "execution_count": 35,
   "metadata": {},
   "outputs": [
    {
     "name": "stdout",
     "output_type": "stream",
     "text": [
      "10 + 15 = 25\n"
     ]
    }
   ],
   "source": [
    "n1 = 10; n2 = 15;\n",
    "cout << n1 << \" + \" << n2 << \" = \" << addInts(&n1, &n2) << endl;"
   ]
  },
  {
   "cell_type": "code",
   "execution_count": 36,
   "metadata": {},
   "outputs": [],
   "source": [
    "// example 2: pass ptr/dynamic variables\n",
    "int * ptr1 = new int;\n",
    "int * ptr2 = new int;"
   ]
  },
  {
   "cell_type": "code",
   "execution_count": 37,
   "metadata": {},
   "outputs": [
    {
     "name": "stdout",
     "output_type": "stream",
     "text": [
      "100 + 200 = 300\n"
     ]
    }
   ],
   "source": [
    "*ptr1 = 100;\n",
    "*ptr2 = 200;\n",
    "cout << *ptr1 << \" + \" << *ptr2 << \" = \" << addInts(ptr1, ptr2) << endl;"
   ]
  },
  {
   "cell_type": "code",
   "execution_count": 38,
   "metadata": {},
   "outputs": [],
   "source": [
    "// side effect example!\n",
    "int myAdd(int * p1, int * p2) {\n",
    "    *p1 = 1000;\n",
    "    *p2 = 2000;\n",
    "    return *p1 + *p2;\n",
    "}"
   ]
  },
  {
   "cell_type": "code",
   "execution_count": 39,
   "metadata": {},
   "outputs": [
    {
     "name": "stdout",
     "output_type": "stream",
     "text": [
      "100 + 200 = 3000\n",
      "1000 + 2000\n"
     ]
    },
    {
     "data": {
      "text/plain": [
       "@0x112ec2010"
      ]
     },
     "execution_count": 39,
     "metadata": {},
     "output_type": "execute_result"
    }
   ],
   "source": [
    "cout << *ptr1 << \" + \" << *ptr2 << \" = \" << myAdd(ptr1, ptr2) << endl;\n",
    "cout << *ptr1 << \" + \" << *ptr2 << endl; // values of *ptr1 and *ptr2 have been changed by myAdd!"
   ]
  },
  {
   "cell_type": "code",
   "execution_count": 40,
   "metadata": {},
   "outputs": [
    {
     "name": "stderr",
     "output_type": "stream",
     "text": [
      "\u001b[1minput_line_53:3:9: \u001b[0m\u001b[0;1;31merror: \u001b[0m\u001b[1mread-only variable is not assignable\u001b[0m\n",
      "    *p1 = 1000; // not allowed as compiler will throw error!\n",
      "\u001b[0;1;32m    ~~~ ^\n",
      "\u001b[0m\u001b[1minput_line_53:4:9: \u001b[0m\u001b[0;1;31merror: \u001b[0m\u001b[1mread-only variable is not assignable\u001b[0m\n",
      "    *p2 = 2000; // not allowed!\n",
      "\u001b[0;1;32m    ~~~ ^\n",
      "\u001b[0m"
     ]
    },
    {
     "ename": "Interpreter Error",
     "evalue": "",
     "output_type": "error",
     "traceback": [
      "Interpreter Error: "
     ]
    }
   ],
   "source": [
    "// prevent side effect by passing pointers as const (read-only)\n",
    "int myAddBetter(const int * p1, const int * p2) {\n",
    "    *p1 = 1000; // not allowed as compiler will throw error!\n",
    "    *p2 = 2000; // not allowed!\n",
    "    return *p1 + *p2;\n",
    "}"
   ]
  },
  {
   "cell_type": "code",
   "execution_count": 41,
   "metadata": {},
   "outputs": [],
   "source": [
    "// prevent side effect by passing pointers as const (read-only)\n",
    "int myAddBetter(const int * p1, const int * p2) {\n",
    "    return *p1 + *p2;\n",
    "}"
   ]
  },
  {
   "cell_type": "code",
   "execution_count": 42,
   "metadata": {},
   "outputs": [
    {
     "name": "stdout",
     "output_type": "stream",
     "text": [
      "100 + 200 = 300\n",
      "100 + 200\n"
     ]
    },
    {
     "data": {
      "text/plain": [
       "@0x112ec2010"
      ]
     },
     "execution_count": 42,
     "metadata": {},
     "output_type": "execute_result"
    }
   ],
   "source": [
    "*ptr1 = 100;\n",
    "*ptr2 = 200;\n",
    "cout << *ptr1 << \" + \" << *ptr2 << \" = \" \n",
    "    << myAddBetter(ptr1, ptr2) << endl;\n",
    "cout << *ptr1 << \" + \" << *ptr2 << endl; \n",
    "// values of *ptr1 and *ptr2 guaranteed to stay the same!"
   ]
  },
  {
   "cell_type": "code",
   "execution_count": 62,
   "metadata": {},
   "outputs": [],
   "source": [
    "// passing array to function as pointer\n",
    "int arr[4] = {100, 200, 300, 400};"
   ]
  },
  {
   "cell_type": "markdown",
   "metadata": {},
   "source": [
    "<a id=\"exercises\"></a>"
   ]
  },
  {
   "cell_type": "code",
   "execution_count": 63,
   "metadata": {},
   "outputs": [],
   "source": [
    "// similar to int sumArray(int a[], int len)\n",
    "int sumArray(const int * a, int len) { \n",
    "    int s = 0;\n",
    "    for(int i=0; i<len; i++) {\n",
    "        s += a[i]; // s += *a; a++;\n",
    "    }\n",
    "    return s;\n",
    "}"
   ]
  },
  {
   "cell_type": "code",
   "execution_count": 65,
   "metadata": {},
   "outputs": [
    {
     "name": "stdout",
     "output_type": "stream",
     "text": [
      "sum of arr = 1000\n"
     ]
    }
   ],
   "source": [
    "cout << \"sum of arr = \" << sumArray(arr, 4) << endl;"
   ]
  },
  {
   "cell_type": "markdown",
   "metadata": {},
   "source": [
    "<a id=\"returnarray\"></a>"
   ]
  },
  {
   "cell_type": "markdown",
   "metadata": {},
   "source": [
    "## Returning array from function\n",
    "- since we can return a pointer from a function, we can return base address of array!\n",
    "- caveat is that the local variable that is being returned has to be static!"
   ]
  },
  {
   "cell_type": "code",
   "execution_count": 67,
   "metadata": {},
   "outputs": [],
   "source": [
    "int * getRandomNumbers() {\n",
    "    static int rands[5];\n",
    "    // set the seed\n",
    "    srand(time(nullptr));\n",
    "    for (int i=0; i< 5; i++) {\n",
    "        rands[i] = rand() % 100; // number between 0 and 99\n",
    "    }\n",
    "    return rands;\n",
    "}"
   ]
  },
  {
   "cell_type": "code",
   "execution_count": 71,
   "metadata": {},
   "outputs": [
    {
     "name": "stderr",
     "output_type": "stream",
     "text": [
      "\u001b[1minput_line_87:2:7: \u001b[0m\u001b[0;1;31merror: \u001b[0m\u001b[1mredefinition of 'rng'\u001b[0m\n",
      " int *rng = getRandomNumbers();\n",
      "\u001b[0;1;32m      ^\n",
      "\u001b[0m\u001b[1minput_line_85:2:7: \u001b[0m\u001b[0;1;30mnote: \u001b[0mprevious definition is here\u001b[0m\n",
      " int *rng = getRandomNumbers();\n",
      "\u001b[0;1;32m      ^\n",
      "\u001b[0m"
     ]
    },
    {
     "ename": "Interpreter Error",
     "evalue": "",
     "output_type": "error",
     "traceback": [
      "Interpreter Error: "
     ]
    }
   ],
   "source": [
    "int *rng;;"
   ]
  },
  {
   "cell_type": "code",
   "execution_count": 76,
   "metadata": {},
   "outputs": [
    {
     "data": {
      "text/plain": [
       "@0x7fff4fcd7708"
      ]
     },
     "execution_count": 76,
     "metadata": {},
     "output_type": "execute_result"
    }
   ],
   "source": [
    "rng = getRandomNumbers()"
   ]
  },
  {
   "cell_type": "code",
   "execution_count": 77,
   "metadata": {},
   "outputs": [
    {
     "name": "stdout",
     "output_type": "stream",
     "text": [
      "60\n",
      "34\n",
      "39\n",
      "79\n",
      "58\n"
     ]
    }
   ],
   "source": [
    "for(int i=0; i< 5; i++) {\n",
    "    cout << *(rng++) << endl; //post-increment\n",
    "}"
   ]
  },
  {
   "cell_type": "markdown",
   "metadata": {},
   "source": [
    "## Exercises\n",
    "1. Write a program using dynamic memory that determines area and circumference of a circle.\n",
    "    - must use functions to find the required answers\n",
    "    - prompt user to enter radius of a circle"
   ]
  },
  {
   "cell_type": "code",
   "execution_count": 1,
   "metadata": {},
   "outputs": [],
   "source": [
    "// Solution to exercise 1\n",
    "#include <iostream>\n",
    "#include <cmath>\n",
    "\n",
    "using namespace std;"
   ]
  },
  {
   "cell_type": "code",
   "execution_count": 2,
   "metadata": {},
   "outputs": [],
   "source": [
    "float areaOfCircle(float * radius) {\n",
    "    return M_PI * pow(*radius, 2);\n",
    "}"
   ]
  },
  {
   "cell_type": "code",
   "execution_count": 3,
   "metadata": {},
   "outputs": [],
   "source": [
    "float circumference(float * radius) {\n",
    "    return 2 * M_PI * (*radius);\n",
    "}"
   ]
  },
  {
   "cell_type": "code",
   "execution_count": 4,
   "metadata": {},
   "outputs": [],
   "source": [
    "void solve() {\n",
    "    float * radius = new float;\n",
    "    cout << \"Enter radius of circle: \";\n",
    "    cin >> *radius;\n",
    "    cout << \"radius of circle: \" << *radius << endl;\n",
    "    cout << \"area of circle: \" << areaOfCircle(radius) << endl;\n",
    "    cout << \"circumference of circle: \" << circumference(radius) << endl;\n",
    "}"
   ]
  },
  {
   "cell_type": "code",
   "execution_count": 5,
   "metadata": {},
   "outputs": [
    {
     "name": "stdout",
     "output_type": "stream",
     "text": [
      "Enter radius of circle: 5\n",
      "radius of circle: 5\n",
      "area of circle: 78.5398\n",
      "circumference of circle: 31.4159\n"
     ]
    }
   ],
   "source": [
    "// you'd call this function in main() in a program file\n",
    "solve();"
   ]
  },
  {
   "cell_type": "markdown",
   "metadata": {},
   "source": [
    "2. Write a program using dynamic memory that determines area and perimeter of a rectangle.\n",
    "    - must use functions to find area and perimeter\n",
    "    - prompt user to enter length and widht of a rectangle"
   ]
  },
  {
   "cell_type": "markdown",
   "metadata": {},
   "source": [
    "<a id=\"pstruct\"></a>"
   ]
  },
  {
   "cell_type": "markdown",
   "metadata": {},
   "source": [
    "## Pointers to struct types\n",
    "- pointers can also store memory addresses of user-defined struct types\n",
    "- pointers user -> arrow operator to access members of struct types"
   ]
  },
  {
   "cell_type": "code",
   "execution_count": 48,
   "metadata": {},
   "outputs": [],
   "source": [
    "// Student struct type\n",
    "struct Student {\n",
    "    int id;\n",
    "    string name;\n",
    "    float tests[3];\n",
    "};"
   ]
  },
  {
   "cell_type": "code",
   "execution_count": 49,
   "metadata": {},
   "outputs": [],
   "source": [
    "// declare dynamic variable / allocate memory dynamically\n",
    "Student * st = new Student{100, \"John S. Smith\", {100, 0, 95}};"
   ]
  },
  {
   "cell_type": "code",
   "execution_count": 50,
   "metadata": {},
   "outputs": [
    {
     "name": "stdout",
     "output_type": "stream",
     "text": [
      "name = John S. Smith\n"
     ]
    }
   ],
   "source": [
    "cout << \"name = \" << st->name << endl;"
   ]
  },
  {
   "cell_type": "markdown",
   "metadata": {},
   "source": [
    "<a id=\"passingstructptrtofunc\"></a>"
   ]
  },
  {
   "cell_type": "markdown",
   "metadata": {},
   "source": [
    "## Passing struct pointers to functions"
   ]
  },
  {
   "cell_type": "code",
   "execution_count": 51,
   "metadata": {},
   "outputs": [],
   "source": [
    "// passing pointer-type to a function\n",
    "void printStudent(Student * s) {\n",
    "    cout << \"id: \" << s->id << \" name: \" << st->name << endl;\n",
    "    cout << \"test scores: \";\n",
    "    printArray(s->tests, 3);\n",
    "}"
   ]
  },
  {
   "cell_type": "code",
   "execution_count": 52,
   "metadata": {},
   "outputs": [
    {
     "name": "stdout",
     "output_type": "stream",
     "text": [
      "id: 100 name: John S. Smith\n",
      "test scores: [100, 0, 95]"
     ]
    }
   ],
   "source": [
    "printStudent(st);"
   ]
  },
  {
   "cell_type": "code",
   "execution_count": 53,
   "metadata": {},
   "outputs": [
    {
     "name": "stdout",
     "output_type": "stream",
     "text": [
      "id: 200 name: John S. Smith\n",
      "test scores: [100, 100, 100]"
     ]
    }
   ],
   "source": [
    "Student s1 = {200, \"Jane Doe\", {100, 100, 100}};\n",
    "Student *sptr = &s1; // sptr is an alias to s1\n",
    "printStudent(sptr);"
   ]
  },
  {
   "cell_type": "code",
   "execution_count": 55,
   "metadata": {},
   "outputs": [
    {
     "name": "stderr",
     "output_type": "stream",
     "text": [
      "\u001b[1minput_line_71:4:6: \u001b[0m\u001b[0;1;31merror: \u001b[0m\u001b[1mredefinition of 'printStudent1'\u001b[0m\n",
      "void printStudent1(Student * s) {\n",
      "\u001b[0;1;32m     ^\n",
      "\u001b[0m\u001b[1minput_line_70:4:6: \u001b[0m\u001b[0;1;30mnote: \u001b[0mprevious definition is here\u001b[0m\n",
      "void printStudent1(Student * s) {\n",
      "\u001b[0;1;32m     ^\n",
      "\u001b[0m"
     ]
    },
    {
     "ename": "Interpreter Error",
     "evalue": "",
     "output_type": "error",
     "traceback": [
      "Interpreter Error: "
     ]
    }
   ],
   "source": [
    "// passing pointer-type to a function\n",
    "// a value pointed to by formal parameter is modified!\n",
    "// may produce unintended side effect!!\n",
    "void printStudent1(Student * s) {\n",
    "    s->id = 999;\n",
    "    cout << \"id: \" << s->id << \" name: \" << st->name << endl;\n",
    "    cout << \"test scores: \";\n",
    "    printArray(s->tests, 3);\n",
    "}"
   ]
  },
  {
   "cell_type": "code",
   "execution_count": 56,
   "metadata": {},
   "outputs": [
    {
     "name": "stdout",
     "output_type": "stream",
     "text": [
      "id: 999 name: John S. Smith\n",
      "test scores: [100, 0, 95]"
     ]
    }
   ],
   "source": [
    "printStudent1(st);"
   ]
  },
  {
   "cell_type": "code",
   "execution_count": 57,
   "metadata": {},
   "outputs": [
    {
     "name": "stdout",
     "output_type": "stream",
     "text": [
      "id: 999 name: John S. Smith\n",
      "test scores: [100, 0, 95]"
     ]
    }
   ],
   "source": [
    "// check the value of st; it should be changed to 999!\n",
    "printStudent(st);"
   ]
  },
  {
   "cell_type": "code",
   "execution_count": 58,
   "metadata": {},
   "outputs": [
    {
     "name": "stdout",
     "output_type": "stream",
     "text": [
      "999\n"
     ]
    }
   ],
   "source": [
    "cout << st->id << endl;"
   ]
  },
  {
   "cell_type": "code",
   "execution_count": 59,
   "metadata": {},
   "outputs": [
    {
     "name": "stderr",
     "output_type": "stream",
     "text": [
      "\u001b[1minput_line_75:3:11: \u001b[0m\u001b[0;1;31merror: \u001b[0m\u001b[1mcannot assign to variable 's' with const-qualified type 'const Student *'\u001b[0m\n",
      "    s->id = 999; // not allowed!\n",
      "\u001b[0;1;32m    ~~~~~ ^\n",
      "\u001b[0m\u001b[1minput_line_75:2:36: \u001b[0m\u001b[0;1;30mnote: \u001b[0mvariable 's' declared const here\u001b[0m\n",
      "void printStudent2(const Student * s) {\n",
      "\u001b[0;1;32m                   ~~~~~~~~~~~~~~~~^\n",
      "\u001b[0m"
     ]
    },
    {
     "ename": "Interpreter Error",
     "evalue": "",
     "output_type": "error",
     "traceback": [
      "Interpreter Error: "
     ]
    }
   ],
   "source": [
    "// pass as a constant to prevent unintended side effect when passing pointer type \n",
    "void printStudent2(const Student * s) {\n",
    "    s->id = 999; // not allowed!\n",
    "    cout << \"id: \" << s->id << \" name: \" << st->name << endl;\n",
    "    cout << \"test scores: \";\n",
    "    printArray(s->tests, 3);\n",
    "}"
   ]
  },
  {
   "cell_type": "code",
   "execution_count": 60,
   "metadata": {},
   "outputs": [],
   "source": [
    "// pass as a constant to prevent unintended side effect when passing pointer type \n",
    "// const makes the parameter read-only!!\n",
    "void printStudent3(const Student * s) {\n",
    "    cout << \"id: \" << s->id << \" name: \" << st->name << endl;\n",
    "    cout << \"test scores: \";\n",
    "    printArray(s->tests, 3);\n",
    "}"
   ]
  },
  {
   "cell_type": "code",
   "execution_count": 61,
   "metadata": {},
   "outputs": [
    {
     "name": "stdout",
     "output_type": "stream",
     "text": [
      "id: 999 name: John S. Smith\n",
      "test scores: [100, 0, 95]"
     ]
    }
   ],
   "source": [
    "printStudent3(st);"
   ]
  },
  {
   "cell_type": "code",
   "execution_count": null,
   "metadata": {},
   "outputs": [],
   "source": []
  }
 ],
 "metadata": {
  "kernelspec": {
   "display_name": "C",
   "language": "c",
   "name": "c"
  },
  "language_info": {
   "file_extension": ".c",
   "mimetype": "text/plain",
   "name": "c"
  }
 },
 "nbformat": 4,
 "nbformat_minor": 2
}
