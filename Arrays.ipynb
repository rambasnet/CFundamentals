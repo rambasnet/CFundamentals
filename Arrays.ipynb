{
 "cells": [
  {
   "cell_type": "markdown",
   "metadata": {},
   "source": [
    "# Arrays & Strings\n",
    "- allow us to to store more than one same type of values in a single variable\n",
    "- a list of $n$ elements of specific data type\n",
    "- arrays are referred to as buffers\n",
    "- array size is fixed\n",
    "    - checking bounds is programmer's responsibility!\n",
    "    - buffer overflow!!"
   ]
  },
  {
   "cell_type": "code",
   "execution_count": 9,
   "metadata": {
    "code_folding": []
   },
   "outputs": [
    {
     "name": "stdout",
     "output_type": "stream",
     "text": [
      "10.99 999.11"
     ]
    }
   ],
   "source": [
    "#include <stdio.h>\n",
    "\n",
    "int main() {\n",
    "    int nums[] = {10, 5, 20, 25};\n",
    "    float prices[2];\n",
    "    prices[0] = 10.99;\n",
    "    prices[1] = 999.11;\n",
    "    printf(\"%.2f %.2f\", prices[0], prices[1]);\n",
    "    return 0;\n",
    "}"
   ]
  },
  {
   "cell_type": "markdown",
   "metadata": {},
   "source": [
    "## strings\n",
    "- array of char"
   ]
  },
  {
   "cell_type": "code",
   "execution_count": 13,
   "metadata": {},
   "outputs": [
    {
     "name": "stdout",
     "output_type": "stream",
     "text": [
      "Hello, world!\n"
     ]
    }
   ],
   "source": [
    "// strings - char array\n",
    "#include <stdio.h>\n",
    "\n",
    "int main()\n",
    "{\n",
    "    char str_a[20];\n",
    "    str_a[0]  = 'H';\n",
    "    str_a[1]  = 'e';\n",
    "    str_a[2]  = 'l';\n",
    "    str_a[3]  = 'l';\n",
    "    str_a[4]  = 'o';\n",
    "    str_a[5]  = ',';\n",
    "    str_a[6]  = ' ';\n",
    "    str_a[7]  = 'w';\n",
    "    str_a[8]  = 'o';\n",
    "    str_a[9]  = 'r';\n",
    "    str_a[10]  = 'l';\n",
    "    str_a[11] = 'd';\n",
    "    str_a[12] = '!';\n",
    "    str_a[13] = '\\n';\n",
    "    str_a[14] = 0; // null byte ends char buffer; delimiter\n",
    "    printf(\"%s\", str_a);\n",
    "    return 0;\n",
    "}"
   ]
  },
  {
   "cell_type": "markdown",
   "metadata": {},
   "source": [
    "## can't do aggregate operations on array\n",
    "- no copying and comparison as a whole is allowed\n",
    "- a set of standard functions to manipulate string are provided in `<string.h>`\n",
    "    - strcpy(), strncpy(), etc.\n",
    "- http://www.cplusplus.com/reference/cstring/"
   ]
  },
  {
   "cell_type": "code",
   "execution_count": 4,
   "metadata": {},
   "outputs": [
    {
     "name": "stdout",
     "output_type": "stream",
     "text": [
      "Hello World!\n"
     ]
    }
   ],
   "source": [
    "#include <stdio.h>\n",
    "#include <string.h>\n",
    "\n",
    "int main() {\n",
    "    char str_a[20];\n",
    "\n",
    "    strcpy(str_a, \"Hello World!\\n\");\n",
    "    printf(\"%s\", str_a);\n",
    "}"
   ]
  },
  {
   "cell_type": "markdown",
   "metadata": {},
   "source": [
    "## Looping through arrays"
   ]
  },
  {
   "cell_type": "code",
   "execution_count": 8,
   "metadata": {},
   "outputs": [
    {
     "name": "stdout",
     "output_type": "stream",
     "text": [
      "10 + 5 + 20 + 25 = 60\n"
     ]
    }
   ],
   "source": [
    "// what is the output of this program?\n",
    "#include <stdio.h>\n",
    "\n",
    "int main() {\n",
    "    int nums[] = {10, 5, 20, 25};\n",
    "    int s = nums[0];\n",
    "    printf(\"%d\", nums[0]);\n",
    "    for (int i=1; i<4; i++) {\n",
    "        printf(\" + %d\", nums[i]);\n",
    "        s += nums[i];\n",
    "    }\n",
    "    printf(\" = %d\\n\", s);\n",
    "    return 0;\n",
    "}"
   ]
  },
  {
   "cell_type": "code",
   "execution_count": null,
   "metadata": {},
   "outputs": [],
   "source": []
  }
 ],
 "metadata": {
  "kernelspec": {
   "display_name": "C",
   "language": "c",
   "name": "c"
  },
  "language_info": {
   "file_extension": ".c",
   "mimetype": "text/plain",
   "name": "c"
  }
 },
 "nbformat": 4,
 "nbformat_minor": 2
}
