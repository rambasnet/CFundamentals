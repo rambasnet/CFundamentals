{
 "cells": [
  {
   "cell_type": "markdown",
   "metadata": {},
   "source": [
    "# Arrays & Strings\n",
    "- allow us to to store more than one same type of values in a single variable\n",
    "- a list of $n$ elements of specific data type\n",
    "- arrays are referred to as buffers\n",
    "- array size is fixed\n",
    "    - checking bounds is programmer's responsibility!\n",
    "    - buffer overflow!!"
   ]
  },
  {
   "cell_type": "code",
   "execution_count": 5,
   "metadata": {
    "code_folding": []
   },
   "outputs": [
    {
     "name": "stdout",
     "output_type": "stream",
     "text": [
      "10.99 999.11"
     ]
    }
   ],
   "source": [
    "#include <stdio.h>\n",
    "\n",
    "int main() {\n",
    "    int nums[] = {10, 5, 20, 25};\n",
    "    float prices[2];\n",
    "    prices[0] = 10.99;\n",
    "    prices[1] = 999.11;\n",
    "    printf(\"%.2f %.2f\", prices[0], prices[1]);\n",
    "    return 0;\n",
    "}"
   ]
  },
  {
   "cell_type": "markdown",
   "metadata": {},
   "source": [
    "## strings\n",
    "- array of char"
   ]
  },
  {
   "cell_type": "code",
   "execution_count": 1,
   "metadata": {},
   "outputs": [
    {
     "name": "stdout",
     "output_type": "stream",
     "text": [
      "Hello, World!\n"
     ]
    }
   ],
   "source": [
    "// strings - char array\n",
    "#include <stdio.h>\n",
    "\n",
    "int main()\n",
    "{\n",
    "    char str_a[20];\n",
    "    str_a[0]  = 72;\n",
    "    str_a[1]  = 'e';\n",
    "    str_a[2]  = 'l';\n",
    "    str_a[3]  = 'l';\n",
    "    str_a[4]  = 'o';\n",
    "    str_a[5]  = ',';\n",
    "    str_a[6]  = ' ';\n",
    "    str_a[7]  = 87;\n",
    "    str_a[8]  = 'o';\n",
    "    str_a[9]  = 'r';\n",
    "    str_a[10]  = 'l';\n",
    "    str_a[11] = 'd';\n",
    "    str_a[12] = '!';\n",
    "    str_a[13] = '\\n';\n",
    "    str_a[14] = 0; // null byte ends char buffer; delimiter; also '\\0'\n",
    "    printf(\"%s\", str_a);\n",
    "    return 0;\n",
    "}"
   ]
  },
  {
   "cell_type": "markdown",
   "metadata": {},
   "source": [
    "## can't do aggregate operations on array\n",
    "- no copying and comparison as a whole is allowed\n",
    "- a set of standard functions to manipulate string are provided in `<string.h>`\n",
    "    - strcpy(), strncpy(), etc.\n",
    "- http://www.cplusplus.com/reference/cstring/\n",
    "### NOTE - be careful using strcpy() and strncpy()\n",
    "To avoid overflows, the size of the array pointed by `destination` shall be long enough to contain the same C string as `source` (including the terminating null character), and should not overlap in memory with source.\n",
    "\n",
    "### visualize with python tutor\n",
    "https://goo.gl/m2JULJ"
   ]
  },
  {
   "cell_type": "code",
   "execution_count": 6,
   "metadata": {},
   "outputs": [
    {
     "name": "stderr",
     "output_type": "stream",
     "text": [
      "/tmp/tmp2pnfgsg7.c: In function ‘main’:\n",
      "/tmp/tmp2pnfgsg7.c:7:5: warning: ‘__builtin_memcpy’ writing 14 bytes into a region of size 5 overflows the destination [-Wstringop-overflow=]\n",
      "    7 |     strcpy(str_a, \"Hello World!\\n\");\n",
      "      |     ^~~~~~~~~~~~~~~~~~~~~~~~~~~~~~~\n"
     ]
    },
    {
     "name": "stdout",
     "output_type": "stream",
     "text": [
      "Hello World!\n",
      "\n",
      "1919899424\n"
     ]
    },
    {
     "name": "stderr",
     "output_type": "stream",
     "text": [
      "[C kernel] Executable exited with code -11"
     ]
    }
   ],
   "source": [
    "#include <stdio.h>\n",
    "#include <string.h>\n",
    "\n",
    "int main() {\n",
    "    char str_a[5]; // change size to 5\n",
    "    int num = 100;\n",
    "    strcpy(str_a, \"Hello World!\\n\");\n",
    "    printf(\"%s\\n\", str_a);\n",
    "    printf(\"%d\\n\", num);\n",
    "}"
   ]
  },
  {
   "cell_type": "markdown",
   "metadata": {},
   "source": [
    "## Looping through arrays"
   ]
  },
  {
   "cell_type": "code",
   "execution_count": 10,
   "metadata": {},
   "outputs": [
    {
     "name": "stdout",
     "output_type": "stream",
     "text": [
      "10 + 5 + 20 + 25 + 4 + 64 + -1076235232 + 5144576 + -1076235176 + 5133073 + 5144576 = -2137048055\n"
     ]
    }
   ],
   "source": [
    "// what is the output of this program?\n",
    "#include <stdio.h>\n",
    "\n",
    "int main() {\n",
    "    int nums[] = {10, 5, 20, 25};\n",
    "    int s = nums[0];\n",
    "    printf(\"%d\", nums[0]);\n",
    "    for (int i=1; i<=10; i++) {\n",
    "        printf(\" + %d\", nums[i]);\n",
    "        s += nums[i];\n",
    "    }\n",
    "    printf(\" = %d\\n\", s);\n",
    "    return 0;\n",
    "}"
   ]
  },
  {
   "cell_type": "code",
   "execution_count": null,
   "metadata": {},
   "outputs": [],
   "source": []
  }
 ],
 "metadata": {
  "kernelspec": {
   "display_name": "C",
   "language": "c",
   "name": "c"
  },
  "language_info": {
   "file_extension": ".c",
   "mimetype": "text/plain",
   "name": "c"
  }
 },
 "nbformat": 4,
 "nbformat_minor": 2
}
