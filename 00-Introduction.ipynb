{
 "cells": [
  {
   "cell_type": "markdown",
   "metadata": {},
   "source": [
    "# C Programming Fundamentals\n",
    "\n",
    "## Table of Contents\n",
    "**[Data Types & Variables](./DataTypesVariables.ipynb)** <br>\n",
    "**[Basic Arithmetic](./BasicArithmetic.ipynb)** <br>\n",
    "**[Conditionals-Branching](./Conditionals-Branching.ipynb)** <br>\n",
    "**[Loops](./Loops.ipynb)** <br>\n",
    "**[Menu Example](./Menu.ipynb)**<br>\n",
    "**[Arrays](./Arrays.ipynb)**<br>\n",
    "**[User-defined Functions](./UserDefinedFunctions.ipynb)**<br>\n",
    "**[File IO](./FileIO.ipynb)**<br>"
   ]
  },
  {
   "cell_type": "code",
   "execution_count": null,
   "metadata": {},
   "outputs": [],
   "source": []
  }
 ],
 "metadata": {
  "kernelspec": {
   "display_name": "C",
   "language": "c",
   "name": "c"
  },
  "language_info": {
   "file_extension": ".c",
   "mimetype": "text/plain",
   "name": "c"
  }
 },
 "nbformat": 4,
 "nbformat_minor": 2
}
