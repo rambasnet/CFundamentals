{
 "cells": [
  {
   "cell_type": "markdown",
   "metadata": {},
   "source": [
    "# Hello World - C Program structure\n",
    "- A C program consists of:\n",
    "    - Preprocessor directives\n",
    "    - Functions\n",
    "    - Variables\n",
    "    - Statements & Exceptions\n",
    "    - Comments"
   ]
  },
  {
   "cell_type": "code",
   "execution_count": 1,
   "metadata": {},
   "outputs": [
    {
     "name": "stdout",
     "output_type": "stream",
     "text": [
      "Hello World\n"
     ]
    }
   ],
   "source": [
    "// program by author's name...\n",
    "// Date:\n",
    "\n",
    "// include stdio header file for std input/output\n",
    "#include <stdio.h>\n",
    "\n",
    "int main() {\n",
    "    /*\n",
    "    every c program must have one main() function\n",
    "    main() is the entry point of the program from where code starts executing\n",
    "    */\n",
    "    printf(\"Hello World\\n\"); // each statement ends with semicolon\n",
    "    return 0; //exit with success\n",
    "}"
   ]
  },
  {
   "cell_type": "markdown",
   "metadata": {},
   "source": [
    "# Compile and Execute C Program\n",
    "- C is a compiled programming language\n",
    "- gcc is an open-source C compiler that can compile C programs into binary (machine code) that is executed by a computer\n",
    "- use terminal to compile and run C programs\n",
    "    - `gcc program.c`\n",
    "    - ` ./a.out`"
   ]
  },
  {
   "cell_type": "markdown",
   "metadata": {},
   "source": [
    "# Data Types and Variables\n",
    "- most common types supported by C are:\n",
    "    - int (integer/whole numbers)\n",
    "    - float (decimal floating-point values)\n",
    "    - char (single character values\n",
    "- variable is a named memory location where data/value of specific type is stored\n",
    "- C is static typed language where each variable is given a type that describes the information that is meant to be stored in that variable"
   ]
  },
  {
   "cell_type": "markdown",
   "metadata": {},
   "source": [
    "## Declaring and using variables\n",
    "- variables are used to store data values\n",
    "- can be initialized with appropriate type while declaring\n",
    "- values of variables can change; hence the name\n",
    "\n",
    "- Syntax to declare variables:\n",
    "```c\n",
    "type varName;\n",
    "```"
   ]
  },
  {
   "cell_type": "code",
   "execution_count": 2,
   "metadata": {},
   "outputs": [],
   "source": [
    "#include <stdio.h>\n",
    "\n",
    "int main() {\n",
    "    int num = 100;\n",
    "    float price;\n",
    "    price = 10.99;\n",
    "    price += 0.02*price; // increase price by 2%\n",
    "    char MI = 'J';\n",
    "    return 0; //exit with success\n",
    "}"
   ]
  },
  {
   "cell_type": "markdown",
   "metadata": {},
   "source": [
    "## escape sequences\n",
    "- \\\\\\\\ - back slash\n",
    "- \\\\n - new line\n",
    "- \\\\t - tab\n",
    "- \\\\r - carriage return"
   ]
  },
  {
   "cell_type": "markdown",
   "metadata": {},
   "source": [
    "## Type casting\n",
    "- converting a data type into another type if possible"
   ]
  },
  {
   "cell_type": "code",
   "execution_count": 3,
   "metadata": {},
   "outputs": [
    {
     "name": "stdout",
     "output_type": "stream",
     "text": [
      "avg = 7.000000\n",
      "avg1 = 7.500000\n"
     ]
    }
   ],
   "source": [
    "#include <stdio.h>\n",
    "\n",
    "int main() {\n",
    "    int num1 = 7;\n",
    "    int num2 = 8;\n",
    "    float avg = (num1 + num2)/2;\n",
    "    float avg1 = ((float)num1 + (float)num2)/2.0;\n",
    "    printf(\"avg = %f\\n\", avg);\n",
    "    printf(\"avg1 = %f\\n\", avg1);\n",
    "    return 0; //exit with success\n",
    "}"
   ]
  },
  {
   "cell_type": "markdown",
   "metadata": {},
   "source": [
    "## Standard Input/Output\n",
    "\n",
    "\n",
    "## standard output\n",
    "- printing data to common output or console/terminal\n",
    "- http://www.cplusplus.com/reference/cstdio/printf/\n",
    "```c\n",
    "int printf(const char *format, data)\n",
    "```\n",
    "    - common format specifier\n",
    "    - %d or %i - decimal integer\n",
    "    - %x or %X - hexadecimal\n",
    "    - %o - octal\n",
    "    - %[.precision]f - floating point\n",
    "    - %c - character\n",
    "    - %s - string of characters\n",
    "    - %p - pointer address\n",
    "    \n",
    "\n",
    "\n",
    "## standard input\n",
    "- reading data from common input/keyboard\n",
    "- standard input doesn't seem to work in jupyter notebook yet...\n",
    "- see demo-programs/std-io.c\n"
   ]
  },
  {
   "cell_type": "code",
   "execution_count": 4,
   "metadata": {},
   "outputs": [
    {
     "name": "stdout",
     "output_type": "stream",
     "text": [
      "Characters: a A \n",
      "Decimals: 1977 650000\n",
      "Preceding with blanks:       1977 \n",
      "Preceding with zeros: 0000001977 \n",
      "Some different radices: 100 64 144 0x64 0144 \n",
      "floats: 3.14 +3e+00 3.141600E+00 \n",
      "Right Justify:    10 \n",
      "Left Justify: 10    more data...\n",
      "A string \n"
     ]
    }
   ],
   "source": [
    "/* printf example */\n",
    "#include <stdio.h>\n",
    "\n",
    "int main()\n",
    "{\n",
    "   printf (\"Characters: %c %c \\n\", 'a', 65);\n",
    "   printf (\"Decimals: %d %ld\\n\", 1977, 650000L);\n",
    "   printf (\"Preceding with blanks: %10d \\n\", 1977);\n",
    "   printf (\"Preceding with zeros: %010d \\n\", 1977);\n",
    "   printf (\"Some different radices: %d %x %o %#x %#o \\n\", 100, 100, 100, 100, 100);\n",
    "   printf (\"floats: %4.2f %+.0e %E \\n\", 3.1416, 3.1416, 3.1416);\n",
    "   printf (\"Right Justify: %5d \\n\", 10); //width of 5 charactes; right justified by default\n",
    "   printf (\"Left Justify: %-5d more data...\\n\", 10); //width of 5 charactes; left justify\n",
    "   printf (\"%s \\n\", \"A string\");\n",
    "   return 0;\n",
    "}"
   ]
  },
  {
   "cell_type": "code",
   "execution_count": null,
   "metadata": {},
   "outputs": [],
   "source": []
  }
 ],
 "metadata": {
  "kernelspec": {
   "display_name": "C",
   "language": "c",
   "name": "c"
  },
  "language_info": {
   "file_extension": ".c",
   "mimetype": "text/plain",
   "name": "c"
  }
 },
 "nbformat": 4,
 "nbformat_minor": 2
}
