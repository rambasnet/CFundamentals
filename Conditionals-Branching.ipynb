{
 "cells": [
  {
   "cell_type": "markdown",
   "metadata": {},
   "source": [
    "# Conditionals - Making Decisions\n",
    "- also logical statements that help program make decision and control the execution of commands"
   ]
  },
  {
   "cell_type": "markdown",
   "metadata": {},
   "source": [
    "## Boolean expression\n",
    "- expressions that evaluate to true or false\n",
    "- use comparison operators to generate boolean expression"
   ]
  },
  {
   "cell_type": "markdown",
   "metadata": {},
   "source": [
    "## comparison operators\n",
    "- binary operators that compare two values and the final result is either true or false\n",
    "\n",
    "- == : equal to\n",
    "- != : not equal to\n",
    "- \\<= : less than or equal to\n",
    "- \\>= : greater than or equal to\n",
    "- \\> : greater than\n",
    "- \\< : less than"
   ]
  },
  {
   "cell_type": "markdown",
   "metadata": {},
   "source": [
    "## One-way selection\n",
    "```c\n",
    "if (<boolean expression> == true) {\n",
    "    // execute this block of code\n",
    "    // otherwise simply skip it\n",
    "}\n",
    "```"
   ]
  },
  {
   "cell_type": "code",
   "execution_count": 1,
   "metadata": {},
   "outputs": [
    {
     "name": "stdout",
     "output_type": "stream",
     "text": [
      "Yes, 2 is equal to 2\n",
      "Good bye!\n"
     ]
    }
   ],
   "source": [
    "#include <stdio.h>\n",
    "\n",
    "int main() {\n",
    "    int a = 2;\n",
    "    float b = 10.99;\n",
    "    if (a == 2) \n",
    "        printf(\"Yes, %d is equal to 2\\n\", a);\n",
    "    \n",
    "    if (a >= b)\n",
    "        printf(\"Yes, %d is greater than or equal to %f\\n\", a, b);\n",
    "    \n",
    "    printf(\"Good bye!\\n\");\n",
    "    return 0;\n",
    "}"
   ]
  },
  {
   "cell_type": "markdown",
   "metadata": {},
   "source": [
    "## Two-way selection\n",
    "- one or the other outcome\n",
    "\n",
    "- syntax:\n",
    "```c\n",
    "if (<boolean expression> == true) {\n",
    "    // execute this block of code\n",
    "}\n",
    "else {\n",
    "    // execute this block of code\n",
    "}\n",
    "```"
   ]
  },
  {
   "cell_type": "code",
   "execution_count": 2,
   "metadata": {},
   "outputs": [
    {
     "name": "stdout",
     "output_type": "stream",
     "text": [
      "Yes, 2 is equal to 2\n",
      "No, 2 is not greater than or equal to 10.990000\n",
      "Good bye!\n"
     ]
    }
   ],
   "source": [
    "#include <stdio.h>\n",
    "\n",
    "int main() {\n",
    "    int a = 2;\n",
    "    float b = 10.99;\n",
    "    if (a == 2) \n",
    "        printf(\"Yes, %d is equal to 2\\n\", a);\n",
    "    else\n",
    "        printf(\"No, %d is not equal to 2\\n\", a);\n",
    "    \n",
    "    if (a >= b)\n",
    "        printf(\"Yes, %d is greater than or equal to %f\\n\", a, b);\n",
    "    else\n",
    "        printf(\"No, %d is not greater than or equal to %f\\n\", a, b);\n",
    "    \n",
    "    printf(\"Good bye!\\n\");\n",
    "    return 0;\n",
    "}"
   ]
  },
  {
   "cell_type": "code",
   "execution_count": 3,
   "metadata": {},
   "outputs": [
    {
     "name": "stdout",
     "output_type": "stream",
     "text": [
      "100 is positive number\n",
      "100 is even number\n",
      "Good bye!\n"
     ]
    }
   ],
   "source": [
    "#include <stdio.h>\n",
    "\n",
    "int main() {\n",
    "    int a = 100;\n",
    "    if (a > 0) {\n",
    "        printf(\"%d is positive number\\n\", a);\n",
    "        if (a%2 == 0)\n",
    "            printf(\"%d is even number\\n\", a);\n",
    "        else\n",
    "            printf(\"%d is odd number\\n\", a);\n",
    "    }\n",
    "    printf(\"Good bye!\\n\");\n",
    "    return 0;\n",
    "}"
   ]
  },
  {
   "cell_type": "markdown",
   "metadata": {},
   "source": [
    "## Multi-way selection\n",
    "- syntax:\n",
    "\n",
    "```c\n",
    "if (expression1) {\n",
    "    // execute this block of code\n",
    "}\n",
    "else if (expression2) {\n",
    "    // execute this block of code\n",
    "}\n",
    "else if(expression3) {\n",
    "    // execute this block\n",
    "}\n",
    "...\n",
    "else {\n",
    "    // execute this block\n",
    "}\n",
    "```"
   ]
  },
  {
   "cell_type": "code",
   "execution_count": 4,
   "metadata": {},
   "outputs": [
    {
     "name": "stdout",
     "output_type": "stream",
     "text": [
      "1 is Sunday\n",
      "Get ready for weekday...\n",
      "Good bye!\n"
     ]
    }
   ],
   "source": [
    "#include <stdio.h>\n",
    "\n",
    "int main() {\n",
    "    int day = 1;\n",
    "    if (day == 1) {\n",
    "        printf(\"%d is Sunday\\n\", day); \n",
    "        printf(\"Get ready for weekday...\\n\");\n",
    "    }\n",
    "    else if (day == 2) {\n",
    "        printf(\"%d is Monday\\n\", day);\n",
    "        printf(\"First workday...yikes!\\n\");\n",
    "    }\n",
    "    else if(day == 3) {\n",
    "        printf(\"%d is Tuesday\\n\", day);\n",
    "        printf(\"Getting closer to weekend...\\n\");\n",
    "    }\n",
    "    else if(day == 4) {\n",
    "        printf(\"%d is hump day\\n\", day);\n",
    "        printf(\"well camels are happy!\\n\");\n",
    "    }\n",
    "    else if(day == 5) {\n",
    "        printf(\"%d is Thursday\\n\", day);\n",
    "        printf(\"1 more day before weekend...\\n\");\n",
    "    }\n",
    "    else if(day == 6) {\n",
    "        printf(\"%d is Friday\\n\", day);\n",
    "        printf(\"Time for happy hour...\\n\");\n",
    "    }\n",
    "    else if(day == 7) {\n",
    "        printf(\"%d is Saturday!\\n\", day);\n",
    "        printf(\"Let's get the party goind...\\n\");\n",
    "    }\n",
    "    else {\n",
    "        printf(\"What planet do you live on?\");\n",
    "    }\n",
    "    \n",
    "    printf(\"Good bye!\\n\");\n",
    "    return 0;\n",
    "}"
   ]
  },
  {
   "cell_type": "code",
   "execution_count": null,
   "metadata": {},
   "outputs": [],
   "source": []
  }
 ],
 "metadata": {
  "kernelspec": {
   "display_name": "C",
   "language": "c",
   "name": "c"
  },
  "language_info": {
   "file_extension": ".c",
   "mimetype": "text/plain",
   "name": "c"
  }
 },
 "nbformat": 4,
 "nbformat_minor": 2
}
