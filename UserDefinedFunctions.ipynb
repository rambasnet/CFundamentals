{
 "cells": [
  {
   "cell_type": "markdown",
   "metadata": {},
   "source": [
    "# User-defined Functions\n",
    "- C provides a bunch of built-in functions in standard libraries\n",
    "- can define our own functions\n",
    "- helps us decompose a problem into smaller sub-problems, solve them and test them and compose the overall solution to a big problem\n",
    "- once function is defined can be used/called many times (facilitates code reuse!)\n",
    "- two types:\n",
    "    1. fruitful functions - return values\n",
    "    - void/fruitless functions - don't return values\n",
    "- two step process:\n",
    "    1. define function\n",
    "    - call function\n",
    "\n",
    "```c\n",
    "returnType funcName ( parameter1, parameter2, ...){\n",
    "    // body\n",
    "    return value;\n",
    "}\n",
    "\n",
    "```\n",
    "\n",
    "- syntax to call functions:\n",
    "```c\n",
    "funcName(arg1, arg2, ...);\n",
    "```"
   ]
  },
  {
   "cell_type": "code",
   "execution_count": 1,
   "metadata": {},
   "outputs": [
    {
     "name": "stdout",
     "output_type": "stream",
     "text": [
      "1! = 1\n",
      "5! = 120\n"
     ]
    }
   ],
   "source": [
    "#include <stdio.h>\n",
    "#include <assert.h>\n",
    "\n",
    "typedef unsigned long long int llu;\n",
    "// define a function that finds a factorial of a given n\n",
    "llu factorial(int n) {\n",
    "    llu f = 1;\n",
    "    for(int i=2; i<=n; i++)\n",
    "        f *= i;\n",
    "    return f;\n",
    "}\n",
    "\n",
    "int main() {\n",
    "    printf(\"1! = %llu\\n\", factorial(1));\n",
    "    printf(\"5! = %llu\\n\", factorial(5));\n",
    "    return 0;\n",
    "}"
   ]
  },
  {
   "cell_type": "markdown",
   "metadata": {},
   "source": [
    "## unit-testing with assert functions\n",
    "- fruitful functions can be unit tested"
   ]
  },
  {
   "cell_type": "code",
   "execution_count": null,
   "metadata": {},
   "outputs": [],
   "source": [
    "#include <stdio.h>\n",
    "#include <assert.h>\n",
    "\n",
    "typedef unsigned long long int llu; // create type alias\n",
    "\n",
    "// define a function that finds a factorial of a given n\n",
    "llu factorial(int n) {\n",
    "    llu f = 1;\n",
    "    for(int i=2; i<=n; i++)\n",
    "        f *= i;\n",
    "    return f;\n",
    "}\n",
    "\n",
    "void test() {\n",
    "    assert(factorial(1) == 1);\n",
    "    assert(factorial(5) == 120);\n",
    "    printf(\"%s\\n\", \"all test cases passed!\");\n",
    "}\n",
    "\n",
    "int main() {\n",
    "    test();\n",
    "    printf(\"1! = %llu\\n\", factorial(1));\n",
    "    printf(\"5! = %llu\\n\", factorial(5));\n",
    "    return 0;\n",
    "}"
   ]
  },
  {
   "cell_type": "markdown",
   "metadata": {},
   "source": [
    "## Top-Down Design\n",
    "- as programs get larger and more complex, they become more difficult to design, code and maintain\n",
    "- it is often a good idea to break large, complex tasks into a series of small, simpler tasks\n",
    "- functions help us do just that!\n",
    "\n",
    "### help a Martian survive on Earth\n",
    "HOW TO BUY FOOD FROM GROCERY STORE\n",
    "\n",
    "1. Get in car\n",
    "2. Drive to market\n",
    "- Park car\n",
    "    1. Find parking space\n",
    "    - Drive car into space\n",
    "    - Turn off motor\n",
    "    - Set parking brake\n",
    "    - Exit car\n",
    "    - Lock car\n",
    "4. Enter market\n",
    "5. Purchase food\n",
    "6. Return to car\n",
    "7. Drive home\n",
    "8. Park car\n",
    "9. Enter house\n",
    "\n",
    "\n",
    "- Function can be used to refine each step"
   ]
  },
  {
   "cell_type": "code",
   "execution_count": null,
   "metadata": {},
   "outputs": [],
   "source": [
    "// Top-Down Design demo\n",
    "#include <stdio.h>\n",
    "\n",
    "void step1() {\n",
    "    printf(\"%s\\n\", \"Get in car\");\n",
    "    printf(\"%s\\n\", \"Put sit belt on\");\n",
    "    printf(\"%s\\n\", \"Start engine\");\n",
    "}\n",
    "\n",
    "void step2() {\n",
    "    printf(\"%s\\n\", \"Drive to market...\");\n",
    "    printf(\"%s\\n\", \"Turn GPS on\");\n",
    "}\n",
    "\n",
    "void step3() {\n",
    "    printf(\"%s\\n\", \"Find parking space\");\n",
    "    printf(\"%s\\n\", \"Drive car into space\");\n",
    "    printf(\"%s\\n\", \"Turn off motor\");\n",
    "    printf(\"%s\\n\", \"Set parking brake\");\n",
    "    printf(\"%s\\n\", \"Exit car\");\n",
    "    printf(\"%s\\n\", \"Lock car\");\n",
    "}\n",
    "\n",
    "int main() {\n",
    "    // Main program starts here\n",
    "    step1();\n",
    "    step2();\n",
    "    step3();\n",
    "    return 0;\n",
    "}"
   ]
  },
  {
   "cell_type": "code",
   "execution_count": null,
   "metadata": {},
   "outputs": [],
   "source": []
  }
 ],
 "metadata": {
  "kernelspec": {
   "display_name": "C",
   "language": "c",
   "name": "c"
  },
  "language_info": {
   "file_extension": ".c",
   "mimetype": "text/plain",
   "name": "c"
  }
 },
 "nbformat": 4,
 "nbformat_minor": 2
}
