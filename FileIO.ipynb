{
 "cells": [
  {
   "cell_type": "markdown",
   "metadata": {},
   "source": [
    "# File Input / Output (IO)\n",
    "- **fopen() and open()**\n",
    "\n",
    "## **fopen()**\n",
    "- FILE * fopen ( const char * filename, const char * mode );\n",
    "- simpler syntax\n",
    "- http://www.cplusplus.com/reference/cstdio/fopen/\n",
    "    \n",
    "## open(fileName, mode, permission) \n",
    "- included in `<fcntl.h>`\n",
    "- lets us open file with access mode and detail file permission settings\n",
    "\n",
    "- http://pubs.opengroup.org/onlinepubs/009695399/functions/open.html\n",
    "- Three modes:\n",
    "    - **O_RDONLY** - Open file for read-only access\n",
    "    - **O_WRONLY** - Open file for write-only access\n",
    "    - **O_RDWR** - Open file for both read and write access\n",
    "- Combined with several other optional flags using bitwise **| (OR)** operator\n",
    "    - **O_APPEND** - Write data at the end of the file\n",
    "    - **O_TRUNC** - Truncate file to 0 length, if already exists\n",
    "    - **O_CREAT** - Create the file if it doesn't exists\n",
    "- File Permissions (define in `<sys/stat.h>`\n",
    "    - if **O_CREAT** flag is used for the `open()` function, an addition argument is needed to define the file permissions\n",
    "    - **S_IRUSR** - Give read permission to the user (owner)\n",
    "    - **S_IWUSR** - Give write permission to the user (owner)\n",
    "    - **S_IXUSR** - Give execute permission to the user (owner)\n",
    "    - **S_IRGRP** - Give read permission to the group\n",
    "    - **S_IWGRP** - Give write permission to the group\n",
    "    - **S_IXGRP** - Give execute permission to the group\n",
    "    - **S_IROTH** - Give read permission to the other\n",
    "    - **S_IWOTH** - Give write permission to the other\n",
    "    - **S_IXOTH** - Give execute permission to the other\n"
   ]
  },
  {
   "cell_type": "markdown",
   "metadata": {},
   "source": [
    "## Read contents from a text file\n",
    "- open file\n",
    "- read line by line using `fgets()`\n",
    "    - http://www.cplusplus.com/reference/cstdio/fgets/?kw=fgets\n",
    "- close file"
   ]
  },
  {
   "cell_type": "code",
   "execution_count": 6,
   "metadata": {},
   "outputs": [
    {
     "name": "stdout",
     "output_type": "stream",
     "text": [
      "1 Ram Basnet 100 100\n",
      "2 John Doe 50 75\n",
      "3 Jake Smith 25 30\n"
     ]
    }
   ],
   "source": [
    "#include <stdio.h>\n",
    "#include <stdlib.h>\n",
    "\n",
    "int main()\n",
    "{\n",
    "    FILE * fp;\n",
    "    size_t len = 100; // read 100 character long line\n",
    "    char * line = (char *)malloc(100); // 100 bytes\n",
    "\n",
    "    fp = fopen(\"./demo-programs/input.txt\", \"r\"); //open file\n",
    "    if (fp == NULL)\n",
    "        exit(1);\n",
    "\n",
    "    while (fgets(line, len, fp) != NULL) // newline is a valid character copied to line\n",
    "        printf(\"%s\", line); // no newline required\n",
    "\n",
    "    fclose(fp); //close file\n",
    "    if (line)\n",
    "        free(line);\n",
    "    return 0;\n",
    "}"
   ]
  },
  {
   "cell_type": "markdown",
   "metadata": {},
   "source": [
    "## write to file\n",
    "- open file with write flag and permissions\n",
    "- write data to file\n",
    "- close file"
   ]
  },
  {
   "cell_type": "markdown",
   "metadata": {},
   "source": [
    "### copy file line by line example"
   ]
  },
  {
   "cell_type": "code",
   "execution_count": 10,
   "metadata": {},
   "outputs": [
    {
     "name": "stdout",
     "output_type": "stream",
     "text": [
      "1 Ram Basnet 100 100\n",
      "2 John Doe 50 75\n",
      "3 Jake Smith 25 30\n"
     ]
    }
   ],
   "source": [
    "#include <stdio.h>\n",
    "#include <stdlib.h>\n",
    "#include <fcntl.h>\n",
    "#include <sys/stat.h>\n",
    "#include <string.h>\n",
    "#include <unistd.h> // write function\n",
    "\n",
    "int main()\n",
    "{\n",
    "    FILE * readFile;\n",
    "    size_t len = 100; // read 100 character long line\n",
    "    char * line = (char *)malloc(100); // 100 bytes\n",
    "    \n",
    "    int writeFile; // file description to write data to\n",
    "\n",
    "    readFile = fopen(\"./demo-programs/input.txt\", \"r\"); //open file\n",
    "    if (readFile == NULL)\n",
    "        exit(1);\n",
    "    \n",
    "    char outputFile[] = \"./demo-programs/output.txt\";\n",
    "    \n",
    "    writeFile = open(outputFile, O_WRONLY|O_CREAT|O_APPEND, S_IRUSR|S_IWUSR);\n",
    "    if (writeFile == -1)\n",
    "        exit(1);\n",
    "\n",
    "    while (fgets(line, len, readFile) != NULL) { // newline is a valid charater copied to line {\n",
    "        printf(\"%s\", line);\n",
    "        write(writeFile, line, strlen(line));\n",
    "    }\n",
    "\n",
    "    fclose(readFile); //close files\n",
    "    close(writeFile);\n",
    "    if (line)\n",
    "        free(line);\n",
    "    return 0;\n",
    "}"
   ]
  },
  {
   "cell_type": "markdown",
   "metadata": {},
   "source": [
    "### read file column by column example\n",
    "- grade book example"
   ]
  },
  {
   "cell_type": "code",
   "execution_count": 26,
   "metadata": {},
   "outputs": [
    {
     "name": "stdout",
     "output_type": "stream",
     "text": [
      "============================================================\n",
      "ID    FNAME      LNAME           TEST1      TEST2        AVG\n",
      "============================================================\n",
      "1     Ram        Basnet            100        100     100.00\n",
      "2     John       Doe                50         75      62.50\n",
      "3     Jake       Smith              25         30      27.50\n",
      "************************************************************\n"
     ]
    }
   ],
   "source": [
    "#include <stdio.h>\n",
    "#include <stdlib.h>\n",
    "#include <string.h>\n",
    "\n",
    "void printLine(int len, char ch) {\n",
    "    for(int i=0; i<len; i++)\n",
    "        printf(\"%c\", ch);\n",
    "    puts(\"\");\n",
    "}\n",
    "\n",
    "int main()\n",
    "{\n",
    "    FILE * fp;\n",
    "    char fname[20];\n",
    "    char lname[20];\n",
    "    int id, test1, test2;\n",
    "    float avg;\n",
    "    fp = fopen(\"./demo-programs/input.txt\", \"r\"); //open file\n",
    "    if (fp == NULL)\n",
    "        exit(1);\n",
    "    printLine(60, '=');\n",
    "    printf(\"%-5s %-10s %-10s %10s %10s %10s\\n\", \"ID\", \"FNAME\", \"LNAME\", \"TEST1\", \"TEST2\", \"AVG\");\n",
    "    printLine(60, '=');\n",
    "    while (fscanf(fp, \"%d %s %s %d %d\", &id, fname, lname, &test1, &test2) != EOF) {// newline is a valid character copied to line\n",
    "        avg = (test1+(float)test2)/2.0;\n",
    "        printf(\"%-5d %-10s %-10s %10d %10d %10.2f\\n\", id, fname, lname, test1, test2, avg);\n",
    "    }\n",
    "    printLine(60, '*');\n",
    "    fclose(fp); //close file\n",
    "    return 0;\n",
    "}"
   ]
  },
  {
   "cell_type": "code",
   "execution_count": null,
   "metadata": {},
   "outputs": [],
   "source": []
  }
 ],
 "metadata": {
  "kernelspec": {
   "display_name": "C",
   "language": "c",
   "name": "c"
  },
  "language_info": {
   "file_extension": ".c",
   "mimetype": "text/plain",
   "name": "c"
  }
 },
 "nbformat": 4,
 "nbformat_minor": 2
}
