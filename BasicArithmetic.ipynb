{
 "cells": [
  {
   "cell_type": "markdown",
   "metadata": {},
   "source": [
    "# Basic Arithmetic"
   ]
  },
  {
   "cell_type": "markdown",
   "metadata": {},
   "source": [
    "## Arithmetic operators\n",
    "- \\+ : addition\n",
    "- \\- : subtraction\n",
    "- \\* : multiplication\n",
    "- / : division\n",
    "- % : modulo (remainder)\n",
    "- -= : subtraction assignment\n",
    "- += : addition assignment\n",
    "- \\*= : multiplication assignment\n",
    "- /= : division assignment\n",
    "- %= : modulo assignment\n",
    "- parameter++ : post-increment\n",
    "- parameter-- : post-decrement\n",
    "- ++parameter : pre-increment\n",
    "- --parameter : pre-decrement"
   ]
  },
  {
   "cell_type": "code",
   "execution_count": 4,
   "metadata": {},
   "outputs": [
    {
     "name": "stdout",
     "output_type": "stream",
     "text": [
      "5*2 = 10\n",
      "5/2 = 2\n",
      "5.0/2 = 2.500000\n",
      "5%2 = 1\n",
      "5-2 = 3\n",
      "num = 20\n",
      "num++ = 20\n",
      "num = 21\n",
      "++num = 22\n",
      "--num = 21\n"
     ]
    }
   ],
   "source": [
    "#include <stdio.h>\n",
    "\n",
    "int main() {\n",
    "    printf(\"5*2 = %d\\n\", 5*2);\n",
    "    printf(\"5/2 = %d\\n\", 5/2);\n",
    "    printf(\"5.0/2 = %f\\n\", 5.0/2);\n",
    "    printf(\"5%%2 = %d\\n\", 5%2); // escaping % with % format string \n",
    "    printf(\"5-2 = %d\\n\", 5-2);\n",
    "    int num = 10;\n",
    "    num += 10;\n",
    "    printf(\"num = %d\\n\", num);\n",
    "    printf(\"num++ = %d\\n\", num++);\n",
    "    printf(\"num = %d\\n\", num);\n",
    "    printf(\"++num = %d\\n\", ++num);\n",
    "    printf(\"--num = %d\\n\", --num);\n",
    "    return 0;\n",
    "}"
   ]
  },
  {
   "cell_type": "markdown",
   "metadata": {},
   "source": [
    "## math library: <math.h>\n",
    "- http://www.cplusplus.com/reference/cmath/\n",
    "- can use cflags: -lm while compiling using gcc, e.g.\n",
    "    - `gcc -lm demo-programs/math.c`"
   ]
  },
  {
   "cell_type": "code",
   "execution_count": 10,
   "metadata": {},
   "outputs": [
    {
     "name": "stdout",
     "output_type": "stream",
     "text": [
      "sqrt(100) = 10.000000\n"
     ]
    }
   ],
   "source": [
    "//%cflags:-lm\n",
    "// not required but can be used in jupyter notebook to use custom compilation flags to link with math\n",
    "\n",
    "#include <stdio.h>\n",
    "#include <math.h>\n",
    "\n",
    "int main() {\n",
    "    int n = 100;\n",
    "    printf(\"sqrt(%d) = %f\\n\", n, sqrt(100));\n",
    "    return 0;\n",
    "}"
   ]
  },
  {
   "cell_type": "code",
   "execution_count": null,
   "metadata": {},
   "outputs": [],
   "source": []
  }
 ],
 "metadata": {
  "kernelspec": {
   "display_name": "C",
   "language": "c",
   "name": "c"
  },
  "language_info": {
   "file_extension": ".c",
   "mimetype": "text/plain",
   "name": "c"
  }
 },
 "nbformat": 4,
 "nbformat_minor": 2
}
