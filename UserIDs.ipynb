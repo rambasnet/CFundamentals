{
 "cells": [
  {
   "cell_type": "markdown",
   "metadata": {},
   "source": [
    "# User IDs\n",
    "- every user on \\*nix system has unique user ID number\n",
    "- **id** command can be used to display user's id"
   ]
  },
  {
   "cell_type": "code",
   "execution_count": 1,
   "metadata": {},
   "outputs": [
    {
     "name": "stdout",
     "output_type": "stream",
     "text": [
      "uid=1001(user) gid=1001(user) groups=1001(user),27(sudo)\r\n"
     ]
    }
   ],
   "source": [
    "! id"
   ]
  },
  {
   "cell_type": "code",
   "execution_count": 2,
   "metadata": {},
   "outputs": [
    {
     "name": "stdout",
     "output_type": "stream",
     "text": [
      "1001\r\n"
     ]
    }
   ],
   "source": [
    "! id -u"
   ]
  },
  {
   "cell_type": "code",
   "execution_count": 3,
   "metadata": {},
   "outputs": [
    {
     "name": "stdout",
     "output_type": "stream",
     "text": [
      "uid=0(root) gid=0(root) groups=0(root)\r\n"
     ]
    }
   ],
   "source": [
    "! id root"
   ]
  },
  {
   "cell_type": "markdown",
   "metadata": {},
   "source": [
    "## add 2 users to the system\n",
    "- add tom and jerry as users to play with notesearch program provided by Hacking book\n",
    "    - `$ sudo adduser tom`\n",
    "    - `$ sudo adduser jerry`"
   ]
  },
  {
   "cell_type": "code",
   "execution_count": 4,
   "metadata": {},
   "outputs": [
    {
     "name": "stdout",
     "output_type": "stream",
     "text": [
      "uid=1003(tom) gid=1003(tom) groups=1003(tom)\r\n"
     ]
    }
   ],
   "source": [
    "! id tom"
   ]
  },
  {
   "cell_type": "code",
   "execution_count": 5,
   "metadata": {},
   "outputs": [
    {
     "name": "stdout",
     "output_type": "stream",
     "text": [
      "id: ‘jerry’: no such user\r\n"
     ]
    }
   ],
   "source": [
    "! id jerry"
   ]
  },
  {
   "cell_type": "code",
   "execution_count": 6,
   "metadata": {},
   "outputs": [
    {
     "name": "stdout",
     "output_type": "stream",
     "text": [
      "Login: tom            \t\t\tName: Tom Cat\r\n",
      "Directory: /home/tom                \tShell: /bin/bash\r\n",
      "Office: 123, x3132\t\t\tHome Phone: 23-2323\r\n",
      "Never logged in.\r\n",
      "No mail.\r\n",
      "No Plan.\r\n"
     ]
    }
   ],
   "source": [
    "! finger tom"
   ]
  },
  {
   "cell_type": "markdown",
   "metadata": {},
   "source": [
    "## Setuid programs\n",
    "- some programs need to be accessed by all users\n",
    "- all users need to access and modify common files like /etc/passwd, /etc/shadow\n",
    "- how's that possible?\n",
    "    - **setuid** flag to the rescue\n",
    "- **setuid** programs have **s** in the ls -l output\n",
    "    - e.g., see passwd and chsh programs\n",
    "    - these programs are owned by root\n",
    "    - run as root user when any user run these programs\n",
    "    - the logic is written in such a way that only the line pertaining to the user can be modified by each user\n",
    "- running program can have both a real user ID and effective user ID\n",
    "    - can be retrieved using getuid() and geteuid() respectively\n",
    "    - see booksrc/uid_demo.c"
   ]
  },
  {
   "cell_type": "code",
   "execution_count": 14,
   "metadata": {},
   "outputs": [
    {
     "name": "stdout",
     "output_type": "stream",
     "text": [
      "-rw-r--r-- 1 root root   3441 Mar 11 00:51 /etc/passwd\r\n",
      "-rw-r----- 1 root shadow 2196 Mar 11 00:51 /etc/shadow\r\n"
     ]
    }
   ],
   "source": [
    "# password file with user info\n",
    "! ls -l /etc/passwd /etc/shadow"
   ]
  },
  {
   "cell_type": "code",
   "execution_count": 15,
   "metadata": {},
   "outputs": [
    {
     "name": "stdout",
     "output_type": "stream",
     "text": [
      "-rwsr-xr-x 1 root root 47780 Jul 27  2018 /usr/bin/chsh\r\n",
      "-rwsr-xr-x 1 root root 62024 Jul 27  2018 /usr/bin/passwd\r\n"
     ]
    }
   ],
   "source": [
    "# password and chsh programs\n",
    "! ls -l $(which passwd)  $(which chsh)"
   ]
  },
  {
   "cell_type": "markdown",
   "metadata": {},
   "source": [
    "### booksrc/uid_demo.c"
   ]
  },
  {
   "cell_type": "code",
   "execution_count": 19,
   "metadata": {},
   "outputs": [
    {
     "name": "stdout",
     "output_type": "stream",
     "text": [
      "#include <stdio.h>\r\n",
      "#include <unistd.h>\r\n",
      "#include <sys/types.h>\r\n",
      "\r\n",
      "int main()\r\n",
      "{\r\n",
      "   printf(\"real uid: %d\\n\", getuid());\r\n",
      "   printf(\"effective uid: %d\\n\", geteuid());\r\n",
      "}\r\n"
     ]
    }
   ],
   "source": [
    "! cat ./booksrc/uid_demo.c"
   ]
  },
  {
   "cell_type": "code",
   "execution_count": 20,
   "metadata": {},
   "outputs": [],
   "source": [
    "%%bash\n",
    "in=./booksrc/uid_demo.c\n",
    "out=uid_demo.out\n",
    "gcc -o $out $in"
   ]
  },
  {
   "cell_type": "code",
   "execution_count": 21,
   "metadata": {},
   "outputs": [
    {
     "name": "stdout",
     "output_type": "stream",
     "text": [
      "real uid: 1001\r\n",
      "effective uid: 1001\r\n"
     ]
    }
   ],
   "source": [
    "! ./uid_demo.out"
   ]
  },
  {
   "cell_type": "code",
   "execution_count": 22,
   "metadata": {},
   "outputs": [
    {
     "name": "stdout",
     "output_type": "stream",
     "text": [
      "-rwxr-xr-x 1 user user 15524 Mar 11 02:27 uid_demo.out\r\n"
     ]
    }
   ],
   "source": [
    "! ls -l uid_demo.out"
   ]
  },
  {
   "cell_type": "markdown",
   "metadata": {},
   "source": [
    "Modify the ownership to root from terminal as it requires sudo priviledge\n",
    "\n",
    "`sudo chown root:root ./uid_demo`"
   ]
  },
  {
   "cell_type": "code",
   "execution_count": 23,
   "metadata": {},
   "outputs": [
    {
     "name": "stdout",
     "output_type": "stream",
     "text": [
      "-rwxr-xr-x 1 user user 15524 Mar 11 02:27 uid_demo.out\n",
      "real uid: 1001\n",
      "effective uid: 1001\n"
     ]
    }
   ],
   "source": [
    "%%bash\n",
    "ls -l uid_demo.out\n",
    "./uid_demo.out"
   ]
  },
  {
   "cell_type": "markdown",
   "metadata": {},
   "source": [
    "Set setuid flag using terminal\n",
    "\n",
    "`sudo chmod u+s ./uid_demo`"
   ]
  },
  {
   "cell_type": "code",
   "execution_count": 24,
   "metadata": {},
   "outputs": [
    {
     "name": "stdout",
     "output_type": "stream",
     "text": [
      "-rwxr-xr-x 1 user user 15524 Mar 11 02:27 uid_demo.out\n",
      "real uid: 1001\n",
      "effective uid: 1001\n"
     ]
    }
   ],
   "source": [
    "%%bash\n",
    "ls -l uid_demo.out\n",
    "./uid_demo.out"
   ]
  },
  {
   "cell_type": "markdown",
   "metadata": {},
   "source": [
    "## compile simplenote.c in hacking/booksrc\n",
    "- add several notes for the loggedin user\n",
    "- try adding notes for other users\n",
    "    - how do we fix the problem?\n",
    "    - better program... booksrc/notetaker.c"
   ]
  },
  {
   "cell_type": "code",
   "execution_count": 25,
   "metadata": {},
   "outputs": [
    {
     "name": "stdout",
     "output_type": "stream",
     "text": [
      "\u001b[01m\u001b[K./booksrc/simplenote.c:\u001b[m\u001b[K In function ‘\u001b[01m\u001b[Kmain\u001b[m\u001b[K’:\r\n",
      "\u001b[01m\u001b[K./booksrc/simplenote.c:35:7:\u001b[m\u001b[K \u001b[01;35m\u001b[Kwarning: \u001b[m\u001b[Kassignment to ‘\u001b[01m\u001b[KFILE *\u001b[m\u001b[K’ {aka ‘\u001b[01m\u001b[Kstruct _IO_FILE *\u001b[m\u001b[K’} from ‘\u001b[01m\u001b[Kint\u001b[m\u001b[K’ makes pointer from integer without a cast [\u001b[01;35m\u001b[K-Wint-conversion\u001b[m\u001b[K]\r\n",
      "    fd \u001b[01;35m\u001b[K=\u001b[m\u001b[K open(datafile, O_WRONLY|O_CREAT|O_APPEND, S_IRUSR|S_IWUSR);\r\n",
      "       \u001b[01;35m\u001b[K^\u001b[m\u001b[K\r\n",
      "\u001b[01m\u001b[K./booksrc/simplenote.c:40:13:\u001b[m\u001b[K \u001b[01;35m\u001b[Kwarning: \u001b[m\u001b[Kpassing argument 1 of ‘\u001b[01m\u001b[Kwrite\u001b[m\u001b[K’ makes integer from pointer without a cast [\u001b[01;35m\u001b[K-Wint-conversion\u001b[m\u001b[K]\r\n",
      "    if(write(\u001b[01;35m\u001b[Kfd\u001b[m\u001b[K, buffer, strlen(buffer)) == -1)\r\n",
      "             \u001b[01;35m\u001b[K^~\u001b[m\u001b[K\r\n",
      "In file included from \u001b[01m\u001b[K./booksrc/simplenote.c:6\u001b[m\u001b[K:\r\n",
      "\u001b[01m\u001b[K/usr/include/unistd.h:366:27:\u001b[m\u001b[K \u001b[01;36m\u001b[Knote: \u001b[m\u001b[Kexpected ‘\u001b[01m\u001b[Kint\u001b[m\u001b[K’ but argument is of type ‘\u001b[01m\u001b[KFILE *\u001b[m\u001b[K’ {aka ‘\u001b[01m\u001b[Kstruct _IO_FILE *\u001b[m\u001b[K’}\r\n",
      " extern ssize_t write (\u001b[01;36m\u001b[Kint __fd\u001b[m\u001b[K, const void *__buf, size_t __n) __wur;\r\n",
      "                       \u001b[01;36m\u001b[K~~~~^~~~\u001b[m\u001b[K\r\n",
      "\u001b[01m\u001b[K./booksrc/simplenote.c:43:13:\u001b[m\u001b[K \u001b[01;35m\u001b[Kwarning: \u001b[m\u001b[Kpassing argument 1 of ‘\u001b[01m\u001b[Kclose\u001b[m\u001b[K’ makes integer from pointer without a cast [\u001b[01;35m\u001b[K-Wint-conversion\u001b[m\u001b[K]\r\n",
      "    if(close(\u001b[01;35m\u001b[Kfd\u001b[m\u001b[K) == NULL)\r\n",
      "             \u001b[01;35m\u001b[K^~\u001b[m\u001b[K\r\n",
      "In file included from \u001b[01m\u001b[K./booksrc/simplenote.c:6\u001b[m\u001b[K:\r\n",
      "\u001b[01m\u001b[K/usr/include/unistd.h:353:23:\u001b[m\u001b[K \u001b[01;36m\u001b[Knote: \u001b[m\u001b[Kexpected ‘\u001b[01m\u001b[Kint\u001b[m\u001b[K’ but argument is of type ‘\u001b[01m\u001b[KFILE *\u001b[m\u001b[K’ {aka ‘\u001b[01m\u001b[Kstruct _IO_FILE *\u001b[m\u001b[K’}\r\n",
      " extern int close (\u001b[01;36m\u001b[Kint __fd\u001b[m\u001b[K);\r\n",
      "                   \u001b[01;36m\u001b[K~~~~^~~~\u001b[m\u001b[K\r\n",
      "\u001b[01m\u001b[K./booksrc/simplenote.c:43:17:\u001b[m\u001b[K \u001b[01;35m\u001b[Kwarning: \u001b[m\u001b[Kcomparison between pointer and integer\r\n",
      "    if(close(fd) \u001b[01;35m\u001b[K==\u001b[m\u001b[K NULL)\r\n",
      "                 \u001b[01;35m\u001b[K^~\u001b[m\u001b[K\r\n",
      "\u001b[01m\u001b[K./booksrc/simplenote.c:32:4:\u001b[m\u001b[K \u001b[01;35m\u001b[Kwarning: \u001b[m\u001b[K‘\u001b[01m\u001b[Kstrncat\u001b[m\u001b[K’ specified bound 1 equals source length [\u001b[01;35m\u001b[K-Wstringop-overflow=\u001b[m\u001b[K]\r\n",
      "    \u001b[01;35m\u001b[Kstrncat(buffer, \"\\n\", 1)\u001b[m\u001b[K; // add a newline on the end\r\n",
      "    \u001b[01;35m\u001b[K^~~~~~~~~~~~~~~~~~~~~~~~\u001b[m\u001b[K\r\n"
     ]
    }
   ],
   "source": [
    "! gcc -o simplenote.out ./booksrc/simplenote.c"
   ]
  },
  {
   "cell_type": "code",
   "execution_count": 17,
   "metadata": {},
   "outputs": [
    {
     "name": "stdout",
     "output_type": "stream",
     "text": [
      "-rw------- 1 user user 38 Mar 11 01:59 /tmp/notes\r\n"
     ]
    }
   ],
   "source": [
    "! ls -al /tmp/notes"
   ]
  },
  {
   "cell_type": "markdown",
   "metadata": {},
   "source": [
    "## compile notetaker.c in hacking/booksrc\n",
    "- set setuid\n",
    "- add several notes for each user\n",
    "- notes are written to /var/notes instead of /tmp/notes"
   ]
  },
  {
   "cell_type": "code",
   "execution_count": null,
   "metadata": {},
   "outputs": [],
   "source": []
  }
 ],
 "metadata": {
  "kernelspec": {
   "display_name": "Python 3",
   "language": "python",
   "name": "python3"
  },
  "language_info": {
   "codemirror_mode": {
    "name": "ipython",
    "version": 3
   },
   "file_extension": ".py",
   "mimetype": "text/x-python",
   "name": "python",
   "nbconvert_exporter": "python",
   "pygments_lexer": "ipython3",
   "version": "3.7.1"
  }
 },
 "nbformat": 4,
 "nbformat_minor": 2
}
