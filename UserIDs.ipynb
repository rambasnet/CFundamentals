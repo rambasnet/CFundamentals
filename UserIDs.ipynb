{
 "cells": [
  {
   "cell_type": "markdown",
   "metadata": {},
   "source": [
    "# User IDs\n",
    "- every user on \\*nix system has unique user ID number\n",
    "- **id** command can be used to display user's id"
   ]
  },
  {
   "cell_type": "code",
   "execution_count": null,
   "metadata": {},
   "outputs": [],
   "source": [
    "! id"
   ]
  },
  {
   "cell_type": "code",
   "execution_count": null,
   "metadata": {},
   "outputs": [],
   "source": [
    "! id -u"
   ]
  },
  {
   "cell_type": "code",
   "execution_count": null,
   "metadata": {},
   "outputs": [],
   "source": [
    "! id user"
   ]
  },
  {
   "cell_type": "markdown",
   "metadata": {},
   "source": [
    "## add 2 users to the system\n",
    "- add tom and jerry as users to play with notesearch program provided by Hacking book\n",
    "    - `$ sudo adduser tom`\n",
    "    - `$ sudo adduser jerry`"
   ]
  },
  {
   "cell_type": "code",
   "execution_count": 4,
   "metadata": {
    "scrolled": true
   },
   "outputs": [
    {
     "name": "stdout",
     "output_type": "stream",
     "text": [
      "uid=1003(tom) gid=1003(tom) groups=1003(tom)\r\n"
     ]
    }
   ],
   "source": [
    "! id tom"
   ]
  },
  {
   "cell_type": "code",
   "execution_count": 6,
   "metadata": {},
   "outputs": [
    {
     "name": "stdout",
     "output_type": "stream",
     "text": [
      "uid=1004(jerry) gid=1004(jerry) groups=1004(jerry)\r\n"
     ]
    }
   ],
   "source": [
    "! id jerry"
   ]
  },
  {
   "cell_type": "code",
   "execution_count": 7,
   "metadata": {},
   "outputs": [
    {
     "name": "stdout",
     "output_type": "stream",
     "text": [
      "Login: tom            \t\t\tName: Tom Cat\r\n",
      "Directory: /home/tom                \tShell: /bin/bash\r\n",
      "Office: 123, x3132\t\t\tHome Phone: 23-2323\r\n",
      "Never logged in.\r\n",
      "No mail.\r\n",
      "No Plan.\r\n"
     ]
    }
   ],
   "source": [
    "! finger tom"
   ]
  },
  {
   "cell_type": "markdown",
   "metadata": {},
   "source": [
    "## Setuid programs\n",
    "- some programs need to be accessed by all users\n",
    "- all users need to access and modify common files like /etc/passwd, /etc/shadow\n",
    "- how's that possible?\n",
    "    - **setuid** flag to the rescue\n",
    "- **setuid** programs have **s** in the ls -l output\n",
    "    - e.g., see passwd and chsh programs\n",
    "    - these programs are owned by root\n",
    "    - run as root user when any user run these programs\n",
    "    - the logic is written in such a way that only the line pertaining to the user can be modified by each user\n",
    "- running program can have both a real user ID and effective user ID\n",
    "    - can be retrieved using getuid() and geteuid() respectively\n",
    "    - see booksrc/uid_demo.c"
   ]
  },
  {
   "cell_type": "code",
   "execution_count": null,
   "metadata": {},
   "outputs": [],
   "source": [
    "# password file with user info\n",
    "! ls -l /etc/passwd /etc/shadow"
   ]
  },
  {
   "cell_type": "code",
   "execution_count": null,
   "metadata": {},
   "outputs": [],
   "source": [
    "# password and chsh programs\n",
    "! ls -l $(which passwd)  $(which chsh)"
   ]
  },
  {
   "cell_type": "markdown",
   "metadata": {},
   "source": [
    "### booksrc/uid_demo.c"
   ]
  },
  {
   "cell_type": "code",
   "execution_count": null,
   "metadata": {},
   "outputs": [],
   "source": [
    "! cat ./booksrc/uid_demo.c"
   ]
  },
  {
   "cell_type": "code",
   "execution_count": null,
   "metadata": {},
   "outputs": [],
   "source": [
    "%%bash\n",
    "in=./booksrc/uid_demo.c\n",
    "out=uid_demo.out\n",
    "gcc -o $out $in"
   ]
  },
  {
   "cell_type": "code",
   "execution_count": null,
   "metadata": {},
   "outputs": [],
   "source": [
    "! ./uid_demo.out"
   ]
  },
  {
   "cell_type": "code",
   "execution_count": null,
   "metadata": {},
   "outputs": [],
   "source": [
    "! ls -l uid_demo.out"
   ]
  },
  {
   "cell_type": "markdown",
   "metadata": {},
   "source": [
    "Modify the ownership to root from terminal as it requires sudo priviledge\n",
    "\n",
    "`sudo chown root:root ./uid_demo`"
   ]
  },
  {
   "cell_type": "code",
   "execution_count": null,
   "metadata": {},
   "outputs": [],
   "source": [
    "%%bash\n",
    "ls -l uid_demo.out\n",
    "./uid_demo.out"
   ]
  },
  {
   "cell_type": "markdown",
   "metadata": {},
   "source": [
    "Set setuid flag using terminal\n",
    "\n",
    "`sudo chmod u+s ./uid_demo`"
   ]
  },
  {
   "cell_type": "code",
   "execution_count": null,
   "metadata": {},
   "outputs": [],
   "source": [
    "%%bash\n",
    "ls -l uid_demo.out\n",
    "./uid_demo.out"
   ]
  },
  {
   "cell_type": "markdown",
   "metadata": {},
   "source": [
    "## compile simplenote.c in hacking/booksrc\n",
    "- add several notes for the loggedin user\n",
    "- try adding notes for other users\n",
    "    - how do we fix the problem?\n",
    "    - better program... booksrc/notetaker.c"
   ]
  },
  {
   "cell_type": "code",
   "execution_count": null,
   "metadata": {},
   "outputs": [],
   "source": [
    "! gcc -o simplenote.out ./booksrc/simplenote.c"
   ]
  },
  {
   "cell_type": "code",
   "execution_count": null,
   "metadata": {},
   "outputs": [],
   "source": [
    "! ls -al /tmp/notes"
   ]
  },
  {
   "cell_type": "markdown",
   "metadata": {},
   "source": [
    "## compile notetaker.c in hacking/booksrc\n",
    "- set setuid\n",
    "- add several notes for each user\n",
    "- notes are written to /var/notes instead of /tmp/notes"
   ]
  },
  {
   "cell_type": "code",
   "execution_count": null,
   "metadata": {},
   "outputs": [],
   "source": []
  }
 ],
 "metadata": {
  "kernelspec": {
   "display_name": "Python 3",
   "language": "python",
   "name": "python3"
  },
  "language_info": {
   "codemirror_mode": {
    "name": "ipython",
    "version": 3
   },
   "file_extension": ".py",
   "mimetype": "text/x-python",
   "name": "python",
   "nbconvert_exporter": "python",
   "pygments_lexer": "ipython3",
   "version": "3.7.1"
  }
 },
 "nbformat": 4,
 "nbformat_minor": 2
}
