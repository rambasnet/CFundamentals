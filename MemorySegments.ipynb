{
 "cells": [
  {
   "cell_type": "markdown",
   "metadata": {},
   "source": [
    "# Memory segments\n",
    "\n",
    "## Table of Contents\n",
    "- [Memory segments](#segments)\n",
    "- [Demo program](#demo1)"
   ]
  },
  {
   "cell_type": "markdown",
   "metadata": {},
   "source": [
    "<a id=\"segments\"></a>"
   ]
  },
  {
   "cell_type": "markdown",
   "metadata": {},
   "source": [
    "## Memory segments in C/C++ programs\n",
    "- memory a program uses is typically divided into 2 main spaces:\n",
    "    1. kernel space - reserved for running the kernel (OS background processes, device drivers, etc.)\n",
    "    2. user space - user-mode applications are loaded\n",
    "    \n",
    "- in C/C++ programs, user space is dividied into 5 different areas, called segments:\n",
    "\n",
    "<img src=\"./resources/c_memorysegments.png\" align=\"left\"/>\n",
    "\n",
    "    1. Stack segment, also called scratch pad\n",
    "        - function parameters, local variables, and other function-related register varialbes are stored\n",
    "        - grows and shrinks based on program needs\n",
    "    2. Heap segment\n",
    "        - dynamically allocated variables (using pointers) are allocated from this segment\n",
    "        - Heap size is normally much larger compared to stack size\n",
    "        - size (acutal) grows and shrinks based on program needs\n",
    "    3. BSS segment (Block Started by Symbol, also called the uninitialized data segment)\n",
    "        - zero-initialized or uninitialized global and static variables are stored\n",
    "    4. Data segment (also called the initialized data segment)\n",
    "        - initialized global and static variables are stored\n",
    "    5. Text segment (also called a code segment)\n",
    "        - compiled program/code is loaded\n",
    "        - code segment is typically read-only.\n",
    "\n",
    "Programmers primarily focus on the heap and the stack, as that is where most of the interesting stuff takes place."
   ]
  },
  {
   "cell_type": "markdown",
   "metadata": {},
   "source": [
    "<a id=\"demo1\"></a>"
   ]
  },
  {
   "cell_type": "markdown",
   "metadata": {},
   "source": [
    "## Demo program\n",
    "[memory_segments.c](./demo-programs/memory_segments.c)\n",
    "    - compile and run memory_segments.c inside demo-programs folder to see various memory segments in use by a C program"
   ]
  }
 ],
 "metadata": {
  "kernelspec": {
   "display_name": "C++14",
   "language": "C++14",
   "name": "xeus-cling-cpp14"
  },
  "language_info": {
   "codemirror_mode": "text/x-c++src",
   "file_extension": ".cpp",
   "mimetype": "text/x-c++src",
   "name": "c++",
   "version": "-std=c++14"
  }
 },
 "nbformat": 4,
 "nbformat_minor": 2
}
