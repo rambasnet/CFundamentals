{
 "cells": [
  {
   "cell_type": "markdown",
   "metadata": {},
   "source": [
    "# Memory segments\n",
    "\n",
    "## Table of Contents\n",
    "- [Memory segments](#segments)\n",
    "- [Demo program](#demo1)"
   ]
  },
  {
   "cell_type": "markdown",
   "metadata": {},
   "source": [
    "<a id=\"segments\"></a>"
   ]
  },
  {
   "cell_type": "markdown",
   "metadata": {},
   "source": [
    "## Memory segments in C/C++ programs\n",
    "- main memory (RAM) is typically divided into 2 main spaces:\n",
    "    1. kernel space - reserved for running the kernel (OS background processes, device drivers, etc.)\n",
    "        - loaded in lower addresses\n",
    "    2. user space - user-mode applications are loaded\n",
    "        - loaded in higher addresses\n",
    "    \n",
    "- in C/C++ programs, user space is divided into 5 different areas, called segments:\n",
    "\n",
    "<img src=\"./resources/MemorySegments.png\">\n",
    "\n",
    "### Stack segment\n",
    "- also called scratch pad\n",
    "- function parameters, local variables, and other function-related register variables are stored\n",
    "- size automatically grows and shrinks based on program needs\n",
    "\n",
    "### Heap segment\n",
    "- memory for dynamically allocated variables (using pointers) are allocated in this segment\n",
    "- Heap size is normally much larger compared to stack size\n",
    "- size (actual) grows and shrinks based on program needs\n",
    "- programmers repsponsibility to deallocate dynamic memory\n",
    "    - memory leak could occur, otherwise!\n",
    "    \n",
    "### BSS (Block Started by Symbol) segment\n",
    "- also called the uninitialized data segment)\n",
    "- zero-initialized or uninitialized global and static variables are stored\n",
    "    \n",
    "### Data segment\n",
    "- also called the initialized data segment\n",
    "- initialized global and static variables are stored\n",
    "\n",
    "### Text segment\n",
    "- also called a code segment\n",
    "- compiled program/code is loaded\n",
    "- code segment is typically read-only.\n",
    "\n",
    "Programmers primarily focus on the heap and the stack, as that is where most of the interesting stuff takes place."
   ]
  },
  {
   "cell_type": "markdown",
   "metadata": {},
   "source": [
    "<a id=\"demo1\"></a>"
   ]
  },
  {
   "cell_type": "markdown",
   "metadata": {},
   "source": [
    "## Demo program\n",
    "[memory_segments.c](./demo-programs/memory_segments.c)\n",
    "    - compile and run memory_segments.c inside demo-programs folder to see various memory segments in use by a C program"
   ]
  },
  {
   "cell_type": "code",
   "execution_count": null,
   "metadata": {},
   "outputs": [],
   "source": []
  }
 ],
 "metadata": {
  "kernelspec": {
   "display_name": "C",
   "language": "c",
   "name": "c"
  },
  "language_info": {
   "file_extension": ".c",
   "mimetype": "text/plain",
   "name": "c"
  }
 },
 "nbformat": 4,
 "nbformat_minor": 2
}
