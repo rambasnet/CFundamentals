{
 "cells": [
  {
   "cell_type": "markdown",
   "metadata": {},
   "source": [
    "## Loops\n",
    "- life is full of loops; everyday routines such as going to college, cooking food, slicing vegetables, etc.\n",
    "- E.g. slicing a carrot\n",
    "    1. get cutting board\n",
    "    2. get knife\n",
    "    3. place carrot on cutting board\n",
    "    4. lift knife\n",
    "    - advance carrot\n",
    "    - slice carrot\n",
    "    - if you see only your finger, then quit else go to step 4\n",
    "- step 4-7 form a loop!"
   ]
  },
  {
   "cell_type": "markdown",
   "metadata": {},
   "source": [
    "## For loop\n",
    "- syntax\n",
    "```c\n",
    "for ( init; condition; update ) {\n",
    "    // body\n",
    "}\n",
    "```"
   ]
  },
  {
   "cell_type": "code",
   "execution_count": 1,
   "metadata": {},
   "outputs": [
    {
     "name": "stdout",
     "output_type": "stream",
     "text": [
      "2 4 6 8 10 12 14 16 18 20 "
     ]
    }
   ],
   "source": [
    "#include <stdio.h>\n",
    "\n",
    "int main() {\n",
    "    for(int n=1; n <= 20; n++) {\n",
    "        if (n %2 == 0)\n",
    "            printf(\"%d \", n);\n",
    "    }\n",
    "    return 0;\n",
    "}"
   ]
  },
  {
   "cell_type": "markdown",
   "metadata": {},
   "source": [
    "## see for-countdown.c demo in demo-programs"
   ]
  },
  {
   "cell_type": "markdown",
   "metadata": {},
   "source": [
    "## While loop\n",
    "- syntax:\n",
    "```c\n",
    "while (condition) {\n",
    "    // body\n",
    "}\n",
    "```"
   ]
  },
  {
   "cell_type": "code",
   "execution_count": 3,
   "metadata": {},
   "outputs": [
    {
     "name": "stdout",
     "output_type": "stream",
     "text": [
      "2 4 6 8 10 12 14 16 18 20 "
     ]
    }
   ],
   "source": [
    "#include <stdio.h>\n",
    "\n",
    "int main() {\n",
    "    int count = 1;\n",
    "    while (count <= 20 ) {\n",
    "        if ( count%2 == 0 )\n",
    "            printf(\"%d \", count);\n",
    "        count++;\n",
    "    }\n",
    "}"
   ]
  },
  {
   "cell_type": "markdown",
   "metadata": {},
   "source": [
    "## see while-countdown.c in demo-programs folder"
   ]
  },
  {
   "cell_type": "code",
   "execution_count": null,
   "metadata": {},
   "outputs": [],
   "source": []
  }
 ],
 "metadata": {
  "kernelspec": {
   "display_name": "C",
   "language": "c",
   "name": "c"
  },
  "language_info": {
   "file_extension": ".c",
   "mimetype": "text/plain",
   "name": "c"
  }
 },
 "nbformat": 4,
 "nbformat_minor": 2
}
