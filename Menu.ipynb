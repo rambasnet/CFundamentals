{
 "cells": [
  {
   "cell_type": "markdown",
   "metadata": {},
   "source": [
    "# Menu Example\n",
    "- menu driven program using loop and conditional branching\n",
    "- run /demo-program/menu.c in terminal"
   ]
  },
  {
   "cell_type": "code",
   "execution_count": null,
   "metadata": {},
   "outputs": [],
   "source": [
    "#include <stdio.h>\n",
    "#include <stdlib.h>\n",
    "\n",
    "void showMenu() {\n",
    "    printf(\"%s\\n\", \"Please Select:\");\n",
    "    printf(\"%s\\n\", \"1. Add Two Numbers\");\n",
    "    printf(\"%s\\n\", \"2. Subtract Two Numbers\");\n",
    "    printf(\"%s\\n\", \"0. Quit\");\n",
    "}\n",
    "\n",
    "void getNumbers(int *n1, int *n2) {\n",
    "    printf(\"Enter two numbers spearated by space: \");\n",
    "    scanf(\"%d%d\", n1, n2);\n",
    "}\n",
    "\n",
    "int add(int a, int b) {\n",
    "    return a+b;\n",
    "}\n",
    "\n",
    "int sub(int a, int b) {\n",
    "    return a-b;\n",
    "}\n",
    "\n",
    "int main() {\n",
    "    int option;\n",
    "    int num1, num2;\n",
    "    char ch;\n",
    "    char line[100];\n",
    "    while (1) {\n",
    "        system(\"clear\");\n",
    "        showMenu();\n",
    "        scanf(\"%d\", &option);\n",
    "        if (option == 0)\n",
    "            break;\n",
    "        getNumbers(&num1, &num2);\n",
    "        switch (option) {\n",
    "            case 1:\n",
    "                printf(\"%d + %d = %d\\n\", num1, num2, add(num1, num2));\n",
    "                break;\n",
    "            case 2:\n",
    "                printf(\"%d - %d = %d\\n\", num1, num2, sub(num1, num2));\n",
    "                break;\n",
    "        }\n",
    "        // read and discard white spaces and \\n left behind by scanf!\n",
    "        fgets(line, 100, stdin);\n",
    "        printf(\"Enter to continue...\\n\");\n",
    "        scanf(\"%c\", &ch);\n",
    "    }\n",
    "    return 0;\n",
    "}"
   ]
  },
  {
   "cell_type": "code",
   "execution_count": null,
   "metadata": {},
   "outputs": [],
   "source": []
  }
 ],
 "metadata": {
  "kernelspec": {
   "display_name": "C",
   "language": "c",
   "name": "c"
  },
  "language_info": {
   "file_extension": ".c",
   "mimetype": "text/plain",
   "name": "c"
  }
 },
 "nbformat": 4,
 "nbformat_minor": 2
}
